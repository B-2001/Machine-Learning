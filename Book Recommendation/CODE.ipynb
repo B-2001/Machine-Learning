{
 "cells": [
  {
   "cell_type": "markdown",
   "id": "06303127",
   "metadata": {
    "papermill": {
     "duration": 0.019957,
     "end_time": "2024-04-08T22:38:30.896385",
     "exception": false,
     "start_time": "2024-04-08T22:38:30.876428",
     "status": "completed"
    },
    "tags": []
   },
   "source": [
    "# **Books Recommendation System**\n",
    "\n",
    "* Dataset Link: [https://www.kaggle.com/datasets/arashnic/book-recommendation-dataset/data?select=Books.csv](https://www.kaggle.com/datasets/arashnic/book-recommendation-dataset/data?select=Books.csv)\n",
    "\n",
    "* In this project, i am going to create a books recommendation system using KNN to recommend 5 similar books based on user's inputted book from the Books dataset.\n",
    "\n",
    "* Dataset Structure: The dataset consists of three CSV files:\n",
    "\n",
    "    - Books.csv => Includes book details such as ISBN, Book‑Title, Book‑Author, Year‑Of‑Publication, Publisher, and image URLs (if available).\n",
    "\n",
    "    - Ratings.csv => A large file (~1.15 million rows) listing User‑ID, ISBN, and Book‑Rating. Ratings range from 0 (no explicit rating) to 10; about 716 k entries are 0s, indicating no explicit positive rating."
   ]
  },
  {
   "cell_type": "markdown",
   "id": "59206601",
   "metadata": {
    "papermill": {
     "duration": 0.01949,
     "end_time": "2024-04-08T22:38:31.052991",
     "exception": false,
     "start_time": "2024-04-08T22:38:31.033501",
     "status": "completed"
    },
    "tags": []
   },
   "source": [
    "### Import Libraries"
   ]
  },
  {
   "cell_type": "code",
   "execution_count": null,
   "id": "fd5ecf43",
   "metadata": {
    "execution": {
     "iopub.execute_input": "2024-04-08T22:38:31.094310Z",
     "iopub.status.busy": "2024-04-08T22:38:31.093834Z",
     "iopub.status.idle": "2024-04-08T22:38:33.604073Z",
     "shell.execute_reply": "2024-04-08T22:38:33.602936Z"
    },
    "papermill": {
     "duration": 2.534183,
     "end_time": "2024-04-08T22:38:33.606832",
     "exception": false,
     "start_time": "2024-04-08T22:38:31.072649",
     "status": "completed"
    },
    "tags": []
   },
   "outputs": [],
   "source": [
    "import os, sys, re\n",
    "import numpy as np\n",
    "import pandas as pd\n",
    "from scipy.sparse import csr_matrix\n",
    "from sklearn.neighbors import NearestNeighbors\n",
    "import matplotlib.pyplot as plt\n",
    "import warnings\n",
    "warnings.filterwarnings('ignore')\n",
    "pd.set_option('display.max_colwidth', None)"
   ]
  },
  {
   "cell_type": "markdown",
   "id": "c5e3037a",
   "metadata": {
    "papermill": {
     "duration": 0.02042,
     "end_time": "2024-04-08T22:38:33.647316",
     "exception": false,
     "start_time": "2024-04-08T22:38:33.626896",
     "status": "completed"
    },
    "tags": []
   },
   "source": [
    "# # Data Colllection : Books"
   ]
  },
  {
   "cell_type": "code",
   "execution_count": null,
   "id": "7aaea4d8",
   "metadata": {
    "execution": {
     "iopub.execute_input": "2024-04-08T22:38:33.689933Z",
     "iopub.status.busy": "2024-04-08T22:38:33.688946Z",
     "iopub.status.idle": "2024-04-08T22:38:36.719493Z",
     "shell.execute_reply": "2024-04-08T22:38:36.718300Z"
    },
    "papermill": {
     "duration": 3.054665,
     "end_time": "2024-04-08T22:38:36.722130",
     "exception": false,
     "start_time": "2024-04-08T22:38:33.667465",
     "status": "completed"
    },
    "tags": []
   },
   "outputs": [
    {
     "data": {
      "text/html": [
       "<div>\n",
       "<style scoped>\n",
       "    .dataframe tbody tr th:only-of-type {\n",
       "        vertical-align: middle;\n",
       "    }\n",
       "\n",
       "    .dataframe tbody tr th {\n",
       "        vertical-align: top;\n",
       "    }\n",
       "\n",
       "    .dataframe thead th {\n",
       "        text-align: right;\n",
       "    }\n",
       "</style>\n",
       "<table border=\"1\" class=\"dataframe\">\n",
       "  <thead>\n",
       "    <tr style=\"text-align: right;\">\n",
       "      <th></th>\n",
       "      <th>ISBN</th>\n",
       "      <th>Book-Title</th>\n",
       "      <th>Book-Author</th>\n",
       "      <th>Year-Of-Publication</th>\n",
       "      <th>Publisher</th>\n",
       "      <th>Image-URL-S</th>\n",
       "      <th>Image-URL-M</th>\n",
       "      <th>Image-URL-L</th>\n",
       "    </tr>\n",
       "  </thead>\n",
       "  <tbody>\n",
       "    <tr>\n",
       "      <th>0</th>\n",
       "      <td>0195153448</td>\n",
       "      <td>Classical Mythology</td>\n",
       "      <td>Mark P. O. Morford</td>\n",
       "      <td>2002</td>\n",
       "      <td>Oxford University Press</td>\n",
       "      <td>http://images.amazon.com/images/P/0195153448.01.THUMBZZZ.jpg</td>\n",
       "      <td>http://images.amazon.com/images/P/0195153448.01.MZZZZZZZ.jpg</td>\n",
       "      <td>http://images.amazon.com/images/P/0195153448.01.LZZZZZZZ.jpg</td>\n",
       "    </tr>\n",
       "    <tr>\n",
       "      <th>1</th>\n",
       "      <td>0002005018</td>\n",
       "      <td>Clara Callan</td>\n",
       "      <td>Richard Bruce Wright</td>\n",
       "      <td>2001</td>\n",
       "      <td>HarperFlamingo Canada</td>\n",
       "      <td>http://images.amazon.com/images/P/0002005018.01.THUMBZZZ.jpg</td>\n",
       "      <td>http://images.amazon.com/images/P/0002005018.01.MZZZZZZZ.jpg</td>\n",
       "      <td>http://images.amazon.com/images/P/0002005018.01.LZZZZZZZ.jpg</td>\n",
       "    </tr>\n",
       "    <tr>\n",
       "      <th>2</th>\n",
       "      <td>0060973129</td>\n",
       "      <td>Decision in Normandy</td>\n",
       "      <td>Carlo D'Este</td>\n",
       "      <td>1991</td>\n",
       "      <td>HarperPerennial</td>\n",
       "      <td>http://images.amazon.com/images/P/0060973129.01.THUMBZZZ.jpg</td>\n",
       "      <td>http://images.amazon.com/images/P/0060973129.01.MZZZZZZZ.jpg</td>\n",
       "      <td>http://images.amazon.com/images/P/0060973129.01.LZZZZZZZ.jpg</td>\n",
       "    </tr>\n",
       "    <tr>\n",
       "      <th>3</th>\n",
       "      <td>0374157065</td>\n",
       "      <td>Flu: The Story of the Great Influenza Pandemic of 1918 and the Search for the Virus That Caused It</td>\n",
       "      <td>Gina Bari Kolata</td>\n",
       "      <td>1999</td>\n",
       "      <td>Farrar Straus Giroux</td>\n",
       "      <td>http://images.amazon.com/images/P/0374157065.01.THUMBZZZ.jpg</td>\n",
       "      <td>http://images.amazon.com/images/P/0374157065.01.MZZZZZZZ.jpg</td>\n",
       "      <td>http://images.amazon.com/images/P/0374157065.01.LZZZZZZZ.jpg</td>\n",
       "    </tr>\n",
       "    <tr>\n",
       "      <th>4</th>\n",
       "      <td>0393045218</td>\n",
       "      <td>The Mummies of Urumchi</td>\n",
       "      <td>E. J. W. Barber</td>\n",
       "      <td>1999</td>\n",
       "      <td>W. W. Norton &amp;amp; Company</td>\n",
       "      <td>http://images.amazon.com/images/P/0393045218.01.THUMBZZZ.jpg</td>\n",
       "      <td>http://images.amazon.com/images/P/0393045218.01.MZZZZZZZ.jpg</td>\n",
       "      <td>http://images.amazon.com/images/P/0393045218.01.LZZZZZZZ.jpg</td>\n",
       "    </tr>\n",
       "  </tbody>\n",
       "</table>\n",
       "</div>"
      ],
      "text/plain": [
       "         ISBN  \\\n",
       "0  0195153448   \n",
       "1  0002005018   \n",
       "2  0060973129   \n",
       "3  0374157065   \n",
       "4  0393045218   \n",
       "\n",
       "                                                                                           Book-Title  \\\n",
       "0                                                                                 Classical Mythology   \n",
       "1                                                                                        Clara Callan   \n",
       "2                                                                                Decision in Normandy   \n",
       "3  Flu: The Story of the Great Influenza Pandemic of 1918 and the Search for the Virus That Caused It   \n",
       "4                                                                              The Mummies of Urumchi   \n",
       "\n",
       "            Book-Author Year-Of-Publication                   Publisher  \\\n",
       "0    Mark P. O. Morford                2002     Oxford University Press   \n",
       "1  Richard Bruce Wright                2001       HarperFlamingo Canada   \n",
       "2          Carlo D'Este                1991             HarperPerennial   \n",
       "3      Gina Bari Kolata                1999        Farrar Straus Giroux   \n",
       "4       E. J. W. Barber                1999  W. W. Norton &amp; Company   \n",
       "\n",
       "                                                    Image-URL-S  \\\n",
       "0  http://images.amazon.com/images/P/0195153448.01.THUMBZZZ.jpg   \n",
       "1  http://images.amazon.com/images/P/0002005018.01.THUMBZZZ.jpg   \n",
       "2  http://images.amazon.com/images/P/0060973129.01.THUMBZZZ.jpg   \n",
       "3  http://images.amazon.com/images/P/0374157065.01.THUMBZZZ.jpg   \n",
       "4  http://images.amazon.com/images/P/0393045218.01.THUMBZZZ.jpg   \n",
       "\n",
       "                                                    Image-URL-M  \\\n",
       "0  http://images.amazon.com/images/P/0195153448.01.MZZZZZZZ.jpg   \n",
       "1  http://images.amazon.com/images/P/0002005018.01.MZZZZZZZ.jpg   \n",
       "2  http://images.amazon.com/images/P/0060973129.01.MZZZZZZZ.jpg   \n",
       "3  http://images.amazon.com/images/P/0374157065.01.MZZZZZZZ.jpg   \n",
       "4  http://images.amazon.com/images/P/0393045218.01.MZZZZZZZ.jpg   \n",
       "\n",
       "                                                    Image-URL-L  \n",
       "0  http://images.amazon.com/images/P/0195153448.01.LZZZZZZZ.jpg  \n",
       "1  http://images.amazon.com/images/P/0002005018.01.LZZZZZZZ.jpg  \n",
       "2  http://images.amazon.com/images/P/0060973129.01.LZZZZZZZ.jpg  \n",
       "3  http://images.amazon.com/images/P/0374157065.01.LZZZZZZZ.jpg  \n",
       "4  http://images.amazon.com/images/P/0393045218.01.LZZZZZZZ.jpg  "
      ]
     },
     "execution_count": 2,
     "metadata": {},
     "output_type": "execute_result"
    }
   ],
   "source": [
    "df_books = pd.read_csv(r'Dataset\\Books.csv')\n",
    "df_books.head()"
   ]
  },
  {
   "cell_type": "code",
   "execution_count": 3,
   "id": "68dd81e0",
   "metadata": {
    "execution": {
     "iopub.execute_input": "2024-04-08T22:38:36.805172Z",
     "iopub.status.busy": "2024-04-08T22:38:36.804358Z",
     "iopub.status.idle": "2024-04-08T22:38:36.811823Z",
     "shell.execute_reply": "2024-04-08T22:38:36.810547Z"
    },
    "papermill": {
     "duration": 0.031877,
     "end_time": "2024-04-08T22:38:36.814430",
     "exception": false,
     "start_time": "2024-04-08T22:38:36.782553",
     "status": "completed"
    },
    "tags": []
   },
   "outputs": [
    {
     "data": {
      "text/plain": [
       "Index(['ISBN', 'Book-Title', 'Book-Author', 'Year-Of-Publication', 'Publisher',\n",
       "       'Image-URL-S', 'Image-URL-M', 'Image-URL-L'],\n",
       "      dtype='object')"
      ]
     },
     "execution_count": 3,
     "metadata": {},
     "output_type": "execute_result"
    }
   ],
   "source": [
    "df_books.columns"
   ]
  },
  {
   "cell_type": "code",
   "execution_count": null,
   "id": "1c06cf87",
   "metadata": {
    "execution": {
     "iopub.execute_input": "2024-04-08T22:38:36.896996Z",
     "iopub.status.busy": "2024-04-08T22:38:36.896591Z",
     "iopub.status.idle": "2024-04-08T22:38:36.924080Z",
     "shell.execute_reply": "2024-04-08T22:38:36.922933Z"
    },
    "papermill": {
     "duration": 0.051739,
     "end_time": "2024-04-08T22:38:36.926631",
     "exception": false,
     "start_time": "2024-04-08T22:38:36.874892",
     "status": "completed"
    },
    "tags": []
   },
   "outputs": [],
   "source": [
    "# remove unwanted columns \n",
    "df_books = df_books[['ISBN', 'Book-Title', 'Book-Author']]"
   ]
  },
  {
   "cell_type": "markdown",
   "id": "a649f33e",
   "metadata": {
    "papermill": {
     "duration": 0.019726,
     "end_time": "2024-04-08T22:38:36.966818",
     "exception": false,
     "start_time": "2024-04-08T22:38:36.947092",
     "status": "completed"
    },
    "tags": []
   },
   "source": [
    "# # Data Collection: Ratings"
   ]
  },
  {
   "cell_type": "code",
   "execution_count": null,
   "id": "68b2bfbf",
   "metadata": {
    "execution": {
     "iopub.execute_input": "2024-04-08T22:38:37.008639Z",
     "iopub.status.busy": "2024-04-08T22:38:37.008240Z",
     "iopub.status.idle": "2024-04-08T22:38:37.958612Z",
     "shell.execute_reply": "2024-04-08T22:38:37.957538Z"
    },
    "papermill": {
     "duration": 0.974159,
     "end_time": "2024-04-08T22:38:37.960954",
     "exception": false,
     "start_time": "2024-04-08T22:38:36.986795",
     "status": "completed"
    },
    "tags": []
   },
   "outputs": [
    {
     "data": {
      "text/html": [
       "<div>\n",
       "<style scoped>\n",
       "    .dataframe tbody tr th:only-of-type {\n",
       "        vertical-align: middle;\n",
       "    }\n",
       "\n",
       "    .dataframe tbody tr th {\n",
       "        vertical-align: top;\n",
       "    }\n",
       "\n",
       "    .dataframe thead th {\n",
       "        text-align: right;\n",
       "    }\n",
       "</style>\n",
       "<table border=\"1\" class=\"dataframe\">\n",
       "  <thead>\n",
       "    <tr style=\"text-align: right;\">\n",
       "      <th></th>\n",
       "      <th>User-ID</th>\n",
       "      <th>ISBN</th>\n",
       "      <th>Book-Rating</th>\n",
       "    </tr>\n",
       "  </thead>\n",
       "  <tbody>\n",
       "    <tr>\n",
       "      <th>0</th>\n",
       "      <td>276725</td>\n",
       "      <td>034545104X</td>\n",
       "      <td>0</td>\n",
       "    </tr>\n",
       "    <tr>\n",
       "      <th>1</th>\n",
       "      <td>276726</td>\n",
       "      <td>0155061224</td>\n",
       "      <td>5</td>\n",
       "    </tr>\n",
       "    <tr>\n",
       "      <th>2</th>\n",
       "      <td>276727</td>\n",
       "      <td>0446520802</td>\n",
       "      <td>0</td>\n",
       "    </tr>\n",
       "    <tr>\n",
       "      <th>3</th>\n",
       "      <td>276729</td>\n",
       "      <td>052165615X</td>\n",
       "      <td>3</td>\n",
       "    </tr>\n",
       "    <tr>\n",
       "      <th>4</th>\n",
       "      <td>276729</td>\n",
       "      <td>0521795028</td>\n",
       "      <td>6</td>\n",
       "    </tr>\n",
       "  </tbody>\n",
       "</table>\n",
       "</div>"
      ],
      "text/plain": [
       "   User-ID        ISBN  Book-Rating\n",
       "0   276725  034545104X            0\n",
       "1   276726  0155061224            5\n",
       "2   276727  0446520802            0\n",
       "3   276729  052165615X            3\n",
       "4   276729  0521795028            6"
      ]
     },
     "execution_count": 5,
     "metadata": {},
     "output_type": "execute_result"
    }
   ],
   "source": [
    "df_ratings = pd.read_csv(r'Dataset\\Ratings.csv')\n",
    "df_ratings.head()"
   ]
  },
  {
   "cell_type": "code",
   "execution_count": null,
   "id": "4a998183",
   "metadata": {
    "execution": {
     "iopub.execute_input": "2024-04-08T22:38:38.044983Z",
     "iopub.status.busy": "2024-04-08T22:38:38.043950Z",
     "iopub.status.idle": "2024-04-08T22:38:38.096833Z",
     "shell.execute_reply": "2024-04-08T22:38:38.095569Z"
    },
    "papermill": {
     "duration": 0.076955,
     "end_time": "2024-04-08T22:38:38.099365",
     "exception": false,
     "start_time": "2024-04-08T22:38:38.022410",
     "status": "completed"
    },
    "tags": []
   },
   "outputs": [
    {
     "data": {
      "text/plain": [
       "ISBN           0\n",
       "Book-Title     0\n",
       "Book-Author    2\n",
       "dtype: int64"
      ]
     },
     "execution_count": 6,
     "metadata": {},
     "output_type": "execute_result"
    }
   ],
   "source": [
    "# Check Null values\n",
    "df_books.isnull().sum()"
   ]
  },
  {
   "cell_type": "code",
   "execution_count": 7,
   "id": "5d2601f2",
   "metadata": {
    "execution": {
     "iopub.execute_input": "2024-04-08T22:38:38.142287Z",
     "iopub.status.busy": "2024-04-08T22:38:38.141869Z",
     "iopub.status.idle": "2024-04-08T22:38:38.229568Z",
     "shell.execute_reply": "2024-04-08T22:38:38.228463Z"
    },
    "papermill": {
     "duration": 0.111651,
     "end_time": "2024-04-08T22:38:38.231885",
     "exception": false,
     "start_time": "2024-04-08T22:38:38.120234",
     "status": "completed"
    },
    "tags": []
   },
   "outputs": [
    {
     "data": {
      "text/plain": [
       "User-ID        0\n",
       "ISBN           0\n",
       "Book-Rating    0\n",
       "dtype: int64"
      ]
     },
     "execution_count": 7,
     "metadata": {},
     "output_type": "execute_result"
    }
   ],
   "source": [
    "df_ratings.isnull().sum()"
   ]
  },
  {
   "cell_type": "code",
   "execution_count": null,
   "id": "624fc8c1",
   "metadata": {
    "execution": {
     "iopub.execute_input": "2024-04-08T22:38:38.317626Z",
     "iopub.status.busy": "2024-04-08T22:38:38.316500Z",
     "iopub.status.idle": "2024-04-08T22:38:38.391411Z",
     "shell.execute_reply": "2024-04-08T22:38:38.390111Z"
    },
    "papermill": {
     "duration": 0.099909,
     "end_time": "2024-04-08T22:38:38.394281",
     "exception": false,
     "start_time": "2024-04-08T22:38:38.294372",
     "status": "completed"
    },
    "tags": []
   },
   "outputs": [],
   "source": [
    "# Drop Null Values\n",
    "df_books.dropna(inplace=True)"
   ]
  },
  {
   "cell_type": "code",
   "execution_count": 9,
   "id": "f0eafdec",
   "metadata": {
    "execution": {
     "iopub.execute_input": "2024-04-08T22:38:38.438304Z",
     "iopub.status.busy": "2024-04-08T22:38:38.437644Z",
     "iopub.status.idle": "2024-04-08T22:38:38.487800Z",
     "shell.execute_reply": "2024-04-08T22:38:38.486956Z"
    },
    "papermill": {
     "duration": 0.074308,
     "end_time": "2024-04-08T22:38:38.489850",
     "exception": false,
     "start_time": "2024-04-08T22:38:38.415542",
     "status": "completed"
    },
    "tags": []
   },
   "outputs": [
    {
     "data": {
      "text/plain": [
       "ISBN           0\n",
       "Book-Title     0\n",
       "Book-Author    0\n",
       "dtype: int64"
      ]
     },
     "execution_count": 9,
     "metadata": {},
     "output_type": "execute_result"
    }
   ],
   "source": [
    "df_books.isnull().sum()"
   ]
  },
  {
   "cell_type": "code",
   "execution_count": null,
   "id": "18e603f7",
   "metadata": {
    "execution": {
     "iopub.execute_input": "2024-04-08T22:38:38.637872Z",
     "iopub.status.busy": "2024-04-08T22:38:38.637422Z",
     "iopub.status.idle": "2024-04-08T22:38:38.644368Z",
     "shell.execute_reply": "2024-04-08T22:38:38.643212Z"
    },
    "papermill": {
     "duration": 0.092853,
     "end_time": "2024-04-08T22:38:38.646550",
     "exception": false,
     "start_time": "2024-04-08T22:38:38.553697",
     "status": "completed"
    },
    "tags": []
   },
   "outputs": [
    {
     "data": {
      "text/plain": [
       "(271358, 3)"
      ]
     },
     "execution_count": 10,
     "metadata": {},
     "output_type": "execute_result"
    }
   ],
   "source": [
    "# Check shape of dataset\n",
    "df_books.shape"
   ]
  },
  {
   "cell_type": "code",
   "execution_count": 11,
   "id": "00f1e423",
   "metadata": {
    "execution": {
     "iopub.execute_input": "2024-04-08T22:38:38.689999Z",
     "iopub.status.busy": "2024-04-08T22:38:38.689602Z",
     "iopub.status.idle": "2024-04-08T22:38:38.695930Z",
     "shell.execute_reply": "2024-04-08T22:38:38.695119Z"
    },
    "papermill": {
     "duration": 0.030683,
     "end_time": "2024-04-08T22:38:38.697985",
     "exception": false,
     "start_time": "2024-04-08T22:38:38.667302",
     "status": "completed"
    },
    "tags": []
   },
   "outputs": [
    {
     "data": {
      "text/plain": [
       "(1149780, 3)"
      ]
     },
     "execution_count": 11,
     "metadata": {},
     "output_type": "execute_result"
    }
   ],
   "source": [
    "df_ratings.shape"
   ]
  },
  {
   "cell_type": "code",
   "execution_count": null,
   "id": "3c367b93",
   "metadata": {
    "execution": {
     "iopub.execute_input": "2024-04-08T22:38:38.785416Z",
     "iopub.status.busy": "2024-04-08T22:38:38.784958Z",
     "iopub.status.idle": "2024-04-08T22:38:38.835155Z",
     "shell.execute_reply": "2024-04-08T22:38:38.833992Z"
    },
    "papermill": {
     "duration": 0.075667,
     "end_time": "2024-04-08T22:38:38.837660",
     "exception": false,
     "start_time": "2024-04-08T22:38:38.761993",
     "status": "completed"
    },
    "tags": []
   },
   "outputs": [
    {
     "data": {
      "text/plain": [
       "User-ID\n",
       "11676     13602\n",
       "198711     7550\n",
       "153662     6109\n",
       "98391      5891\n",
       "35859      5850\n",
       "Name: count, dtype: int64"
      ]
     },
     "execution_count": 12,
     "metadata": {},
     "output_type": "execute_result"
    }
   ],
   "source": [
    "# Sort Ratings\n",
    "\n",
    "# Calculate the count of ratings given by each user and store it in the 'ratings' Series\n",
    "ratings = df_ratings['User-ID'].value_counts()\n",
    "# Sort the 'ratings' Series in descending order based on the counts of user IDs\n",
    "ratings.sort_values(ascending=False).head()"
   ]
  },
  {
   "cell_type": "code",
   "execution_count": null,
   "id": "88779ac2",
   "metadata": {
    "execution": {
     "iopub.execute_input": "2024-04-08T22:38:38.923782Z",
     "iopub.status.busy": "2024-04-08T22:38:38.923413Z",
     "iopub.status.idle": "2024-04-08T22:38:38.932738Z",
     "shell.execute_reply": "2024-04-08T22:38:38.931731Z"
    },
    "papermill": {
     "duration": 0.034033,
     "end_time": "2024-04-08T22:38:38.934927",
     "exception": false,
     "start_time": "2024-04-08T22:38:38.900894",
     "status": "completed"
    },
    "tags": []
   },
   "outputs": [
    {
     "data": {
      "text/plain": [
       "104378"
      ]
     },
     "execution_count": 13,
     "metadata": {},
     "output_type": "execute_result"
    }
   ],
   "source": [
    "# check users with less than 200 ratings\n",
    "len(ratings[ratings < 200])"
   ]
  },
  {
   "cell_type": "code",
   "execution_count": 14,
   "id": "d8430d0f",
   "metadata": {
    "execution": {
     "iopub.execute_input": "2024-04-08T22:38:38.979874Z",
     "iopub.status.busy": "2024-04-08T22:38:38.979496Z",
     "iopub.status.idle": "2024-04-08T22:38:39.002303Z",
     "shell.execute_reply": "2024-04-08T22:38:39.001107Z"
    },
    "papermill": {
     "duration": 0.047787,
     "end_time": "2024-04-08T22:38:39.004477",
     "exception": false,
     "start_time": "2024-04-08T22:38:38.956690",
     "status": "completed"
    },
    "tags": []
   },
   "outputs": [
    {
     "data": {
      "text/plain": [
       "622224"
      ]
     },
     "execution_count": 14,
     "metadata": {},
     "output_type": "execute_result"
    }
   ],
   "source": [
    "df_ratings['User-ID'].isin(ratings[ratings < 200].index).sum()"
   ]
  },
  {
   "cell_type": "code",
   "execution_count": 15,
   "id": "1173d8e2",
   "metadata": {
    "execution": {
     "iopub.execute_input": "2024-04-08T22:38:39.049821Z",
     "iopub.status.busy": "2024-04-08T22:38:39.048799Z",
     "iopub.status.idle": "2024-04-08T22:38:39.091779Z",
     "shell.execute_reply": "2024-04-08T22:38:39.090587Z"
    },
    "papermill": {
     "duration": 0.068193,
     "end_time": "2024-04-08T22:38:39.094163",
     "exception": false,
     "start_time": "2024-04-08T22:38:39.025970",
     "status": "completed"
    },
    "tags": []
   },
   "outputs": [
    {
     "data": {
      "text/plain": [
       "(527556, 3)"
      ]
     },
     "execution_count": 15,
     "metadata": {},
     "output_type": "execute_result"
    }
   ],
   "source": [
    "df_ratings_rm = df_ratings[\n",
    "  ~df_ratings['User-ID'].isin(ratings[ratings < 200].index)\n",
    "]\n",
    "df_ratings_rm.shape"
   ]
  },
  {
   "cell_type": "code",
   "execution_count": null,
   "id": "37518d77",
   "metadata": {
    "execution": {
     "iopub.execute_input": "2024-04-08T22:38:39.189143Z",
     "iopub.status.busy": "2024-04-08T22:38:39.187497Z",
     "iopub.status.idle": "2024-04-08T22:38:39.842601Z",
     "shell.execute_reply": "2024-04-08T22:38:39.841744Z"
    },
    "papermill": {
     "duration": 0.686157,
     "end_time": "2024-04-08T22:38:39.845076",
     "exception": false,
     "start_time": "2024-04-08T22:38:39.158919",
     "status": "completed"
    },
    "tags": []
   },
   "outputs": [
    {
     "data": {
      "text/plain": [
       "ISBN\n",
       "0971880107    2502\n",
       "0316666343    1295\n",
       "0385504209     883\n",
       "0060928336     732\n",
       "0312195516     723\n",
       "Name: count, dtype: int64"
      ]
     },
     "execution_count": 16,
     "metadata": {},
     "output_type": "execute_result"
    }
   ],
   "source": [
    "# Check books with less than 100 ratings\n",
    "ratings = df_ratings['ISBN'].value_counts() \n",
    "ratings.sort_values(ascending=False).head()"
   ]
  },
  {
   "cell_type": "code",
   "execution_count": 17,
   "id": "33ac9308",
   "metadata": {
    "execution": {
     "iopub.execute_input": "2024-04-08T22:38:39.896083Z",
     "iopub.status.busy": "2024-04-08T22:38:39.895192Z",
     "iopub.status.idle": "2024-04-08T22:38:40.005996Z",
     "shell.execute_reply": "2024-04-08T22:38:40.004854Z"
    },
    "papermill": {
     "duration": 0.136958,
     "end_time": "2024-04-08T22:38:40.008606",
     "exception": false,
     "start_time": "2024-04-08T22:38:39.871648",
     "status": "completed"
    },
    "tags": []
   },
   "outputs": [
    {
     "data": {
      "text/plain": [
       "339825"
      ]
     },
     "execution_count": 17,
     "metadata": {},
     "output_type": "execute_result"
    }
   ],
   "source": [
    "len(ratings[ratings < 100])"
   ]
  },
  {
   "cell_type": "code",
   "execution_count": 18,
   "id": "e1168494",
   "metadata": {
    "execution": {
     "iopub.execute_input": "2024-04-08T22:38:40.055399Z",
     "iopub.status.busy": "2024-04-08T22:38:40.054580Z",
     "iopub.status.idle": "2024-04-08T22:38:40.265009Z",
     "shell.execute_reply": "2024-04-08T22:38:40.263445Z"
    },
    "papermill": {
     "duration": 0.236425,
     "end_time": "2024-04-08T22:38:40.267501",
     "exception": false,
     "start_time": "2024-04-08T22:38:40.031076",
     "status": "completed"
    },
    "tags": []
   },
   "outputs": [
    {
     "data": {
      "text/plain": [
       "269422"
      ]
     },
     "execution_count": 18,
     "metadata": {},
     "output_type": "execute_result"
    }
   ],
   "source": [
    "df_books['ISBN'].isin(ratings[ratings < 100].index).sum()"
   ]
  },
  {
   "cell_type": "code",
   "execution_count": 19,
   "id": "47eb90e5",
   "metadata": {
    "execution": {
     "iopub.execute_input": "2024-04-08T22:38:40.314601Z",
     "iopub.status.busy": "2024-04-08T22:38:40.314209Z",
     "iopub.status.idle": "2024-04-08T22:38:40.556065Z",
     "shell.execute_reply": "2024-04-08T22:38:40.555204Z"
    },
    "papermill": {
     "duration": 0.267878,
     "end_time": "2024-04-08T22:38:40.558236",
     "exception": false,
     "start_time": "2024-04-08T22:38:40.290358",
     "status": "completed"
    },
    "tags": []
   },
   "outputs": [
    {
     "data": {
      "text/plain": [
       "(49781, 3)"
      ]
     },
     "execution_count": 19,
     "metadata": {},
     "output_type": "execute_result"
    }
   ],
   "source": [
    "df_ratings_rm = df_ratings_rm[\n",
    "  ~df_ratings_rm['ISBN'].isin(ratings[ratings < 100].index)\n",
    "]\n",
    "df_ratings_rm.shape"
   ]
  },
  {
   "cell_type": "code",
   "execution_count": 20,
   "id": "de99057e",
   "metadata": {
    "execution": {
     "iopub.execute_input": "2024-04-08T22:38:40.604442Z",
     "iopub.status.busy": "2024-04-08T22:38:40.603247Z",
     "iopub.status.idle": "2024-04-08T22:38:40.733428Z",
     "shell.execute_reply": "2024-04-08T22:38:40.732090Z"
    },
    "papermill": {
     "duration": 0.155909,
     "end_time": "2024-04-08T22:38:40.735907",
     "exception": false,
     "start_time": "2024-04-08T22:38:40.579998",
     "status": "completed"
    },
    "tags": []
   },
   "outputs": [
    {
     "name": "stdout",
     "output_type": "stream",
     "text": [
      "183\n",
      "75\n",
      "49\n",
      "57\n",
      "77\n"
     ]
    }
   ],
   "source": [
    "# These should exist\n",
    "books = [\"Where the Heart Is (Oprah's Book Club (Paperback))\",\n",
    "        \"I'll Be Seeing You\",\n",
    "        \"The Weight of Water\",\n",
    "        \"The Surgeon\",\n",
    "        \"I Know This Much Is True\"]\n",
    "\n",
    "for book in books:\n",
    "    print(df_ratings_rm['ISBN'].isin(df_books[df_books['Book-Title'] == book]['ISBN']).sum())"
   ]
  },
  {
   "cell_type": "markdown",
   "id": "576a37b6",
   "metadata": {
    "papermill": {
     "duration": 0.022231,
     "end_time": "2024-04-08T22:38:40.780626",
     "exception": false,
     "start_time": "2024-04-08T22:38:40.758395",
     "status": "completed"
    },
    "tags": []
   },
   "source": [
    "# # Data Preproccessing"
   ]
  },
  {
   "cell_type": "code",
   "execution_count": 21,
   "id": "8f500aec",
   "metadata": {
    "execution": {
     "iopub.execute_input": "2024-04-08T22:38:40.827188Z",
     "iopub.status.busy": "2024-04-08T22:38:40.825919Z",
     "iopub.status.idle": "2024-04-08T22:38:40.836954Z",
     "shell.execute_reply": "2024-04-08T22:38:40.835793Z"
    },
    "papermill": {
     "duration": 0.036669,
     "end_time": "2024-04-08T22:38:40.839284",
     "exception": false,
     "start_time": "2024-04-08T22:38:40.802615",
     "status": "completed"
    },
    "tags": []
   },
   "outputs": [
    {
     "data": {
      "text/html": [
       "<div>\n",
       "<style scoped>\n",
       "    .dataframe tbody tr th:only-of-type {\n",
       "        vertical-align: middle;\n",
       "    }\n",
       "\n",
       "    .dataframe tbody tr th {\n",
       "        vertical-align: top;\n",
       "    }\n",
       "\n",
       "    .dataframe thead th {\n",
       "        text-align: right;\n",
       "    }\n",
       "</style>\n",
       "<table border=\"1\" class=\"dataframe\">\n",
       "  <thead>\n",
       "    <tr style=\"text-align: right;\">\n",
       "      <th></th>\n",
       "      <th>User-ID</th>\n",
       "      <th>ISBN</th>\n",
       "      <th>Book-Rating</th>\n",
       "    </tr>\n",
       "  </thead>\n",
       "  <tbody>\n",
       "    <tr>\n",
       "      <th>1456</th>\n",
       "      <td>277427</td>\n",
       "      <td>002542730X</td>\n",
       "      <td>10</td>\n",
       "    </tr>\n",
       "    <tr>\n",
       "      <th>1469</th>\n",
       "      <td>277427</td>\n",
       "      <td>0060930535</td>\n",
       "      <td>0</td>\n",
       "    </tr>\n",
       "    <tr>\n",
       "      <th>1471</th>\n",
       "      <td>277427</td>\n",
       "      <td>0060934417</td>\n",
       "      <td>0</td>\n",
       "    </tr>\n",
       "    <tr>\n",
       "      <th>1474</th>\n",
       "      <td>277427</td>\n",
       "      <td>0061009059</td>\n",
       "      <td>9</td>\n",
       "    </tr>\n",
       "    <tr>\n",
       "      <th>1484</th>\n",
       "      <td>277427</td>\n",
       "      <td>0140067477</td>\n",
       "      <td>0</td>\n",
       "    </tr>\n",
       "  </tbody>\n",
       "</table>\n",
       "</div>"
      ],
      "text/plain": [
       "      User-ID        ISBN  Book-Rating\n",
       "1456   277427  002542730X           10\n",
       "1469   277427  0060930535            0\n",
       "1471   277427  0060934417            0\n",
       "1474   277427  0061009059            9\n",
       "1484   277427  0140067477            0"
      ]
     },
     "execution_count": 21,
     "metadata": {},
     "output_type": "execute_result"
    }
   ],
   "source": [
    "df_ratings_rm.head()"
   ]
  },
  {
   "cell_type": "code",
   "execution_count": 22,
   "id": "09dabc29",
   "metadata": {
    "execution": {
     "iopub.execute_input": "2024-04-08T22:38:40.885111Z",
     "iopub.status.busy": "2024-04-08T22:38:40.884658Z",
     "iopub.status.idle": "2024-04-08T22:38:40.896081Z",
     "shell.execute_reply": "2024-04-08T22:38:40.894941Z"
    },
    "papermill": {
     "duration": 0.0372,
     "end_time": "2024-04-08T22:38:40.898495",
     "exception": false,
     "start_time": "2024-04-08T22:38:40.861295",
     "status": "completed"
    },
    "tags": []
   },
   "outputs": [
    {
     "data": {
      "text/html": [
       "<div>\n",
       "<style scoped>\n",
       "    .dataframe tbody tr th:only-of-type {\n",
       "        vertical-align: middle;\n",
       "    }\n",
       "\n",
       "    .dataframe tbody tr th {\n",
       "        vertical-align: top;\n",
       "    }\n",
       "\n",
       "    .dataframe thead th {\n",
       "        text-align: right;\n",
       "    }\n",
       "</style>\n",
       "<table border=\"1\" class=\"dataframe\">\n",
       "  <thead>\n",
       "    <tr style=\"text-align: right;\">\n",
       "      <th></th>\n",
       "      <th>ISBN</th>\n",
       "      <th>Book-Title</th>\n",
       "      <th>Book-Author</th>\n",
       "    </tr>\n",
       "  </thead>\n",
       "  <tbody>\n",
       "    <tr>\n",
       "      <th>0</th>\n",
       "      <td>0195153448</td>\n",
       "      <td>Classical Mythology</td>\n",
       "      <td>Mark P. O. Morford</td>\n",
       "    </tr>\n",
       "    <tr>\n",
       "      <th>1</th>\n",
       "      <td>0002005018</td>\n",
       "      <td>Clara Callan</td>\n",
       "      <td>Richard Bruce Wright</td>\n",
       "    </tr>\n",
       "    <tr>\n",
       "      <th>2</th>\n",
       "      <td>0060973129</td>\n",
       "      <td>Decision in Normandy</td>\n",
       "      <td>Carlo D'Este</td>\n",
       "    </tr>\n",
       "    <tr>\n",
       "      <th>3</th>\n",
       "      <td>0374157065</td>\n",
       "      <td>Flu: The Story of the Great Influenza Pandemic of 1918 and the Search for the Virus That Caused It</td>\n",
       "      <td>Gina Bari Kolata</td>\n",
       "    </tr>\n",
       "    <tr>\n",
       "      <th>4</th>\n",
       "      <td>0393045218</td>\n",
       "      <td>The Mummies of Urumchi</td>\n",
       "      <td>E. J. W. Barber</td>\n",
       "    </tr>\n",
       "  </tbody>\n",
       "</table>\n",
       "</div>"
      ],
      "text/plain": [
       "         ISBN  \\\n",
       "0  0195153448   \n",
       "1  0002005018   \n",
       "2  0060973129   \n",
       "3  0374157065   \n",
       "4  0393045218   \n",
       "\n",
       "                                                                                           Book-Title  \\\n",
       "0                                                                                 Classical Mythology   \n",
       "1                                                                                        Clara Callan   \n",
       "2                                                                                Decision in Normandy   \n",
       "3  Flu: The Story of the Great Influenza Pandemic of 1918 and the Search for the Virus That Caused It   \n",
       "4                                                                              The Mummies of Urumchi   \n",
       "\n",
       "            Book-Author  \n",
       "0    Mark P. O. Morford  \n",
       "1  Richard Bruce Wright  \n",
       "2          Carlo D'Este  \n",
       "3      Gina Bari Kolata  \n",
       "4       E. J. W. Barber  "
      ]
     },
     "execution_count": 22,
     "metadata": {},
     "output_type": "execute_result"
    }
   ],
   "source": [
    "df_books.head()"
   ]
  },
  {
   "cell_type": "code",
   "execution_count": 23,
   "id": "6827fe49",
   "metadata": {
    "execution": {
     "iopub.execute_input": "2024-04-08T22:38:40.947951Z",
     "iopub.status.busy": "2024-04-08T22:38:40.946878Z",
     "iopub.status.idle": "2024-04-08T22:38:41.025178Z",
     "shell.execute_reply": "2024-04-08T22:38:41.023972Z"
    },
    "papermill": {
     "duration": 0.105632,
     "end_time": "2024-04-08T22:38:41.027514",
     "exception": false,
     "start_time": "2024-04-08T22:38:40.921882",
     "status": "completed"
    },
    "tags": []
   },
   "outputs": [
    {
     "data": {
      "text/html": [
       "<div>\n",
       "<style scoped>\n",
       "    .dataframe tbody tr th:only-of-type {\n",
       "        vertical-align: middle;\n",
       "    }\n",
       "\n",
       "    .dataframe tbody tr th {\n",
       "        vertical-align: top;\n",
       "    }\n",
       "\n",
       "    .dataframe thead th {\n",
       "        text-align: right;\n",
       "    }\n",
       "</style>\n",
       "<table border=\"1\" class=\"dataframe\">\n",
       "  <thead>\n",
       "    <tr style=\"text-align: right;\">\n",
       "      <th>User-ID</th>\n",
       "      <th>254</th>\n",
       "      <th>2276</th>\n",
       "      <th>2766</th>\n",
       "      <th>2977</th>\n",
       "      <th>3363</th>\n",
       "      <th>4017</th>\n",
       "      <th>4385</th>\n",
       "      <th>6242</th>\n",
       "      <th>6251</th>\n",
       "      <th>6323</th>\n",
       "      <th>...</th>\n",
       "      <th>274004</th>\n",
       "      <th>274061</th>\n",
       "      <th>274301</th>\n",
       "      <th>274308</th>\n",
       "      <th>274808</th>\n",
       "      <th>275970</th>\n",
       "      <th>277427</th>\n",
       "      <th>277478</th>\n",
       "      <th>277639</th>\n",
       "      <th>278418</th>\n",
       "    </tr>\n",
       "    <tr>\n",
       "      <th>ISBN</th>\n",
       "      <th></th>\n",
       "      <th></th>\n",
       "      <th></th>\n",
       "      <th></th>\n",
       "      <th></th>\n",
       "      <th></th>\n",
       "      <th></th>\n",
       "      <th></th>\n",
       "      <th></th>\n",
       "      <th></th>\n",
       "      <th></th>\n",
       "      <th></th>\n",
       "      <th></th>\n",
       "      <th></th>\n",
       "      <th></th>\n",
       "      <th></th>\n",
       "      <th></th>\n",
       "      <th></th>\n",
       "      <th></th>\n",
       "      <th></th>\n",
       "      <th></th>\n",
       "    </tr>\n",
       "  </thead>\n",
       "  <tbody>\n",
       "    <tr>\n",
       "      <th>002542730X</th>\n",
       "      <td>0.0</td>\n",
       "      <td>0.0</td>\n",
       "      <td>0.0</td>\n",
       "      <td>0.0</td>\n",
       "      <td>0.0</td>\n",
       "      <td>0.0</td>\n",
       "      <td>0.0</td>\n",
       "      <td>0.0</td>\n",
       "      <td>0.0</td>\n",
       "      <td>0.0</td>\n",
       "      <td>...</td>\n",
       "      <td>0.0</td>\n",
       "      <td>0.0</td>\n",
       "      <td>0.0</td>\n",
       "      <td>0.0</td>\n",
       "      <td>0.0</td>\n",
       "      <td>0.0</td>\n",
       "      <td>10.0</td>\n",
       "      <td>0.0</td>\n",
       "      <td>0.0</td>\n",
       "      <td>0.0</td>\n",
       "    </tr>\n",
       "    <tr>\n",
       "      <th>0060008032</th>\n",
       "      <td>0.0</td>\n",
       "      <td>0.0</td>\n",
       "      <td>0.0</td>\n",
       "      <td>0.0</td>\n",
       "      <td>0.0</td>\n",
       "      <td>0.0</td>\n",
       "      <td>0.0</td>\n",
       "      <td>0.0</td>\n",
       "      <td>0.0</td>\n",
       "      <td>0.0</td>\n",
       "      <td>...</td>\n",
       "      <td>0.0</td>\n",
       "      <td>0.0</td>\n",
       "      <td>0.0</td>\n",
       "      <td>0.0</td>\n",
       "      <td>0.0</td>\n",
       "      <td>0.0</td>\n",
       "      <td>0.0</td>\n",
       "      <td>0.0</td>\n",
       "      <td>0.0</td>\n",
       "      <td>0.0</td>\n",
       "    </tr>\n",
       "    <tr>\n",
       "      <th>0060096195</th>\n",
       "      <td>0.0</td>\n",
       "      <td>0.0</td>\n",
       "      <td>0.0</td>\n",
       "      <td>0.0</td>\n",
       "      <td>0.0</td>\n",
       "      <td>0.0</td>\n",
       "      <td>0.0</td>\n",
       "      <td>0.0</td>\n",
       "      <td>0.0</td>\n",
       "      <td>0.0</td>\n",
       "      <td>...</td>\n",
       "      <td>0.0</td>\n",
       "      <td>0.0</td>\n",
       "      <td>0.0</td>\n",
       "      <td>0.0</td>\n",
       "      <td>0.0</td>\n",
       "      <td>0.0</td>\n",
       "      <td>0.0</td>\n",
       "      <td>0.0</td>\n",
       "      <td>0.0</td>\n",
       "      <td>0.0</td>\n",
       "    </tr>\n",
       "    <tr>\n",
       "      <th>006016848X</th>\n",
       "      <td>0.0</td>\n",
       "      <td>0.0</td>\n",
       "      <td>0.0</td>\n",
       "      <td>0.0</td>\n",
       "      <td>0.0</td>\n",
       "      <td>0.0</td>\n",
       "      <td>0.0</td>\n",
       "      <td>0.0</td>\n",
       "      <td>0.0</td>\n",
       "      <td>0.0</td>\n",
       "      <td>...</td>\n",
       "      <td>0.0</td>\n",
       "      <td>0.0</td>\n",
       "      <td>0.0</td>\n",
       "      <td>0.0</td>\n",
       "      <td>0.0</td>\n",
       "      <td>0.0</td>\n",
       "      <td>0.0</td>\n",
       "      <td>0.0</td>\n",
       "      <td>0.0</td>\n",
       "      <td>0.0</td>\n",
       "    </tr>\n",
       "    <tr>\n",
       "      <th>0060173289</th>\n",
       "      <td>0.0</td>\n",
       "      <td>0.0</td>\n",
       "      <td>0.0</td>\n",
       "      <td>0.0</td>\n",
       "      <td>0.0</td>\n",
       "      <td>0.0</td>\n",
       "      <td>0.0</td>\n",
       "      <td>0.0</td>\n",
       "      <td>0.0</td>\n",
       "      <td>0.0</td>\n",
       "      <td>...</td>\n",
       "      <td>0.0</td>\n",
       "      <td>0.0</td>\n",
       "      <td>0.0</td>\n",
       "      <td>0.0</td>\n",
       "      <td>0.0</td>\n",
       "      <td>0.0</td>\n",
       "      <td>0.0</td>\n",
       "      <td>0.0</td>\n",
       "      <td>0.0</td>\n",
       "      <td>0.0</td>\n",
       "    </tr>\n",
       "  </tbody>\n",
       "</table>\n",
       "<p>5 rows × 888 columns</p>\n",
       "</div>"
      ],
      "text/plain": [
       "User-ID     254     2276    2766    2977    3363    4017    4385    6242    \\\n",
       "ISBN                                                                         \n",
       "002542730X     0.0     0.0     0.0     0.0     0.0     0.0     0.0     0.0   \n",
       "0060008032     0.0     0.0     0.0     0.0     0.0     0.0     0.0     0.0   \n",
       "0060096195     0.0     0.0     0.0     0.0     0.0     0.0     0.0     0.0   \n",
       "006016848X     0.0     0.0     0.0     0.0     0.0     0.0     0.0     0.0   \n",
       "0060173289     0.0     0.0     0.0     0.0     0.0     0.0     0.0     0.0   \n",
       "\n",
       "User-ID     6251    6323    ...  274004  274061  274301  274308  274808  \\\n",
       "ISBN                        ...                                           \n",
       "002542730X     0.0     0.0  ...     0.0     0.0     0.0     0.0     0.0   \n",
       "0060008032     0.0     0.0  ...     0.0     0.0     0.0     0.0     0.0   \n",
       "0060096195     0.0     0.0  ...     0.0     0.0     0.0     0.0     0.0   \n",
       "006016848X     0.0     0.0  ...     0.0     0.0     0.0     0.0     0.0   \n",
       "0060173289     0.0     0.0  ...     0.0     0.0     0.0     0.0     0.0   \n",
       "\n",
       "User-ID     275970  277427  277478  277639  278418  \n",
       "ISBN                                                \n",
       "002542730X     0.0    10.0     0.0     0.0     0.0  \n",
       "0060008032     0.0     0.0     0.0     0.0     0.0  \n",
       "0060096195     0.0     0.0     0.0     0.0     0.0  \n",
       "006016848X     0.0     0.0     0.0     0.0     0.0  \n",
       "0060173289     0.0     0.0     0.0     0.0     0.0  \n",
       "\n",
       "[5 rows x 888 columns]"
      ]
     },
     "execution_count": 23,
     "metadata": {},
     "output_type": "execute_result"
    }
   ],
   "source": [
    "df = df_ratings_rm.pivot_table(index=['User-ID'],columns=['ISBN'],values='Book-Rating').fillna(0).T\n",
    "df.head()"
   ]
  },
  {
   "cell_type": "code",
   "execution_count": 24,
   "id": "fbc4b326",
   "metadata": {
    "execution": {
     "iopub.execute_input": "2024-04-08T22:38:41.075962Z",
     "iopub.status.busy": "2024-04-08T22:38:41.075535Z",
     "iopub.status.idle": "2024-04-08T22:38:41.150539Z",
     "shell.execute_reply": "2024-04-08T22:38:41.149377Z"
    },
    "papermill": {
     "duration": 0.103088,
     "end_time": "2024-04-08T22:38:41.153506",
     "exception": false,
     "start_time": "2024-04-08T22:38:41.050418",
     "status": "completed"
    },
    "tags": []
   },
   "outputs": [],
   "source": [
    "df.index = df.join(df_books.set_index('ISBN'))['Book-Title']"
   ]
  },
  {
   "cell_type": "code",
   "execution_count": 25,
   "id": "f888be19",
   "metadata": {
    "execution": {
     "iopub.execute_input": "2024-04-08T22:38:41.202621Z",
     "iopub.status.busy": "2024-04-08T22:38:41.201970Z",
     "iopub.status.idle": "2024-04-08T22:38:41.232613Z",
     "shell.execute_reply": "2024-04-08T22:38:41.231382Z"
    },
    "papermill": {
     "duration": 0.057891,
     "end_time": "2024-04-08T22:38:41.235173",
     "exception": false,
     "start_time": "2024-04-08T22:38:41.177282",
     "status": "completed"
    },
    "tags": []
   },
   "outputs": [
    {
     "data": {
      "text/html": [
       "<div>\n",
       "<style scoped>\n",
       "    .dataframe tbody tr th:only-of-type {\n",
       "        vertical-align: middle;\n",
       "    }\n",
       "\n",
       "    .dataframe tbody tr th {\n",
       "        vertical-align: top;\n",
       "    }\n",
       "\n",
       "    .dataframe thead th {\n",
       "        text-align: right;\n",
       "    }\n",
       "</style>\n",
       "<table border=\"1\" class=\"dataframe\">\n",
       "  <thead>\n",
       "    <tr style=\"text-align: right;\">\n",
       "      <th>User-ID</th>\n",
       "      <th>254</th>\n",
       "      <th>2276</th>\n",
       "      <th>2766</th>\n",
       "      <th>2977</th>\n",
       "      <th>3363</th>\n",
       "      <th>4017</th>\n",
       "      <th>4385</th>\n",
       "      <th>6242</th>\n",
       "      <th>6251</th>\n",
       "      <th>6323</th>\n",
       "      <th>...</th>\n",
       "      <th>274004</th>\n",
       "      <th>274061</th>\n",
       "      <th>274301</th>\n",
       "      <th>274308</th>\n",
       "      <th>274808</th>\n",
       "      <th>275970</th>\n",
       "      <th>277427</th>\n",
       "      <th>277478</th>\n",
       "      <th>277639</th>\n",
       "      <th>278418</th>\n",
       "    </tr>\n",
       "    <tr>\n",
       "      <th>Book-Title</th>\n",
       "      <th></th>\n",
       "      <th></th>\n",
       "      <th></th>\n",
       "      <th></th>\n",
       "      <th></th>\n",
       "      <th></th>\n",
       "      <th></th>\n",
       "      <th></th>\n",
       "      <th></th>\n",
       "      <th></th>\n",
       "      <th></th>\n",
       "      <th></th>\n",
       "      <th></th>\n",
       "      <th></th>\n",
       "      <th></th>\n",
       "      <th></th>\n",
       "      <th></th>\n",
       "      <th></th>\n",
       "      <th></th>\n",
       "      <th></th>\n",
       "      <th></th>\n",
       "    </tr>\n",
       "  </thead>\n",
       "  <tbody>\n",
       "    <tr>\n",
       "      <th>1984</th>\n",
       "      <td>9.0</td>\n",
       "      <td>0.0</td>\n",
       "      <td>0.0</td>\n",
       "      <td>0.0</td>\n",
       "      <td>0.0</td>\n",
       "      <td>0.0</td>\n",
       "      <td>0.0</td>\n",
       "      <td>0.0</td>\n",
       "      <td>0.0</td>\n",
       "      <td>0.0</td>\n",
       "      <td>...</td>\n",
       "      <td>0.0</td>\n",
       "      <td>0.0</td>\n",
       "      <td>0.0</td>\n",
       "      <td>0.0</td>\n",
       "      <td>0.0</td>\n",
       "      <td>0.0</td>\n",
       "      <td>0.0</td>\n",
       "      <td>0.0</td>\n",
       "      <td>0.0</td>\n",
       "      <td>0.0</td>\n",
       "    </tr>\n",
       "    <tr>\n",
       "      <th>1st to Die: A Novel</th>\n",
       "      <td>0.0</td>\n",
       "      <td>0.0</td>\n",
       "      <td>0.0</td>\n",
       "      <td>0.0</td>\n",
       "      <td>0.0</td>\n",
       "      <td>0.0</td>\n",
       "      <td>0.0</td>\n",
       "      <td>0.0</td>\n",
       "      <td>0.0</td>\n",
       "      <td>0.0</td>\n",
       "      <td>...</td>\n",
       "      <td>0.0</td>\n",
       "      <td>0.0</td>\n",
       "      <td>0.0</td>\n",
       "      <td>0.0</td>\n",
       "      <td>0.0</td>\n",
       "      <td>0.0</td>\n",
       "      <td>0.0</td>\n",
       "      <td>0.0</td>\n",
       "      <td>0.0</td>\n",
       "      <td>0.0</td>\n",
       "    </tr>\n",
       "    <tr>\n",
       "      <th>1st to Die: A Novel</th>\n",
       "      <td>0.0</td>\n",
       "      <td>0.0</td>\n",
       "      <td>0.0</td>\n",
       "      <td>0.0</td>\n",
       "      <td>0.0</td>\n",
       "      <td>0.0</td>\n",
       "      <td>0.0</td>\n",
       "      <td>0.0</td>\n",
       "      <td>0.0</td>\n",
       "      <td>0.0</td>\n",
       "      <td>...</td>\n",
       "      <td>0.0</td>\n",
       "      <td>0.0</td>\n",
       "      <td>0.0</td>\n",
       "      <td>0.0</td>\n",
       "      <td>0.0</td>\n",
       "      <td>0.0</td>\n",
       "      <td>0.0</td>\n",
       "      <td>0.0</td>\n",
       "      <td>0.0</td>\n",
       "      <td>0.0</td>\n",
       "    </tr>\n",
       "    <tr>\n",
       "      <th>2nd Chance</th>\n",
       "      <td>0.0</td>\n",
       "      <td>0.0</td>\n",
       "      <td>0.0</td>\n",
       "      <td>0.0</td>\n",
       "      <td>0.0</td>\n",
       "      <td>0.0</td>\n",
       "      <td>0.0</td>\n",
       "      <td>0.0</td>\n",
       "      <td>0.0</td>\n",
       "      <td>0.0</td>\n",
       "      <td>...</td>\n",
       "      <td>0.0</td>\n",
       "      <td>0.0</td>\n",
       "      <td>0.0</td>\n",
       "      <td>0.0</td>\n",
       "      <td>0.0</td>\n",
       "      <td>0.0</td>\n",
       "      <td>0.0</td>\n",
       "      <td>0.0</td>\n",
       "      <td>0.0</td>\n",
       "      <td>0.0</td>\n",
       "    </tr>\n",
       "    <tr>\n",
       "      <th>2nd Chance</th>\n",
       "      <td>0.0</td>\n",
       "      <td>10.0</td>\n",
       "      <td>0.0</td>\n",
       "      <td>0.0</td>\n",
       "      <td>0.0</td>\n",
       "      <td>0.0</td>\n",
       "      <td>0.0</td>\n",
       "      <td>0.0</td>\n",
       "      <td>0.0</td>\n",
       "      <td>0.0</td>\n",
       "      <td>...</td>\n",
       "      <td>0.0</td>\n",
       "      <td>0.0</td>\n",
       "      <td>0.0</td>\n",
       "      <td>0.0</td>\n",
       "      <td>0.0</td>\n",
       "      <td>0.0</td>\n",
       "      <td>0.0</td>\n",
       "      <td>0.0</td>\n",
       "      <td>0.0</td>\n",
       "      <td>0.0</td>\n",
       "    </tr>\n",
       "  </tbody>\n",
       "</table>\n",
       "<p>5 rows × 888 columns</p>\n",
       "</div>"
      ],
      "text/plain": [
       "User-ID              254     2276    2766    2977    3363    4017    4385    \\\n",
       "Book-Title                                                                    \n",
       "1984                    9.0     0.0     0.0     0.0     0.0     0.0     0.0   \n",
       "1st to Die: A Novel     0.0     0.0     0.0     0.0     0.0     0.0     0.0   \n",
       "1st to Die: A Novel     0.0     0.0     0.0     0.0     0.0     0.0     0.0   \n",
       "2nd Chance              0.0     0.0     0.0     0.0     0.0     0.0     0.0   \n",
       "2nd Chance              0.0    10.0     0.0     0.0     0.0     0.0     0.0   \n",
       "\n",
       "User-ID              6242    6251    6323    ...  274004  274061  274301  \\\n",
       "Book-Title                                   ...                           \n",
       "1984                    0.0     0.0     0.0  ...     0.0     0.0     0.0   \n",
       "1st to Die: A Novel     0.0     0.0     0.0  ...     0.0     0.0     0.0   \n",
       "1st to Die: A Novel     0.0     0.0     0.0  ...     0.0     0.0     0.0   \n",
       "2nd Chance              0.0     0.0     0.0  ...     0.0     0.0     0.0   \n",
       "2nd Chance              0.0     0.0     0.0  ...     0.0     0.0     0.0   \n",
       "\n",
       "User-ID              274308  274808  275970  277427  277478  277639  278418  \n",
       "Book-Title                                                                   \n",
       "1984                    0.0     0.0     0.0     0.0     0.0     0.0     0.0  \n",
       "1st to Die: A Novel     0.0     0.0     0.0     0.0     0.0     0.0     0.0  \n",
       "1st to Die: A Novel     0.0     0.0     0.0     0.0     0.0     0.0     0.0  \n",
       "2nd Chance              0.0     0.0     0.0     0.0     0.0     0.0     0.0  \n",
       "2nd Chance              0.0     0.0     0.0     0.0     0.0     0.0     0.0  \n",
       "\n",
       "[5 rows x 888 columns]"
      ]
     },
     "execution_count": 25,
     "metadata": {},
     "output_type": "execute_result"
    }
   ],
   "source": [
    "df = df.sort_index()\n",
    "df.head()"
   ]
  },
  {
   "cell_type": "code",
   "execution_count": 26,
   "id": "3b3961c9",
   "metadata": {
    "execution": {
     "iopub.execute_input": "2024-04-08T22:38:41.286951Z",
     "iopub.status.busy": "2024-04-08T22:38:41.286508Z",
     "iopub.status.idle": "2024-04-08T22:38:41.296437Z",
     "shell.execute_reply": "2024-04-08T22:38:41.295311Z"
    },
    "papermill": {
     "duration": 0.040004,
     "end_time": "2024-04-08T22:38:41.298767",
     "exception": false,
     "start_time": "2024-04-08T22:38:41.258763",
     "status": "completed"
    },
    "tags": []
   },
   "outputs": [
    {
     "data": {
      "text/plain": [
       "User-ID\n",
       "254     0.0\n",
       "2276    0.0\n",
       "2766    0.0\n",
       "2977    0.0\n",
       "3363    0.0\n",
       "Name: The Queen of the Damned (Vampire Chronicles (Paperback)), dtype: float64"
      ]
     },
     "execution_count": 26,
     "metadata": {},
     "output_type": "execute_result"
    }
   ],
   "source": [
    "df.loc[\"The Queen of the Damned (Vampire Chronicles (Paperback))\"][:5]"
   ]
  },
  {
   "cell_type": "markdown",
   "id": "4209da96",
   "metadata": {
    "papermill": {
     "duration": 0.02301,
     "end_time": "2024-04-08T22:38:41.345100",
     "exception": false,
     "start_time": "2024-04-08T22:38:41.322090",
     "status": "completed"
    },
    "tags": []
   },
   "source": [
    "# # Model Building (KNN)"
   ]
  },
  {
   "cell_type": "code",
   "execution_count": 27,
   "id": "e17717cf",
   "metadata": {
    "execution": {
     "iopub.execute_input": "2024-04-08T22:38:41.394259Z",
     "iopub.status.busy": "2024-04-08T22:38:41.393182Z",
     "iopub.status.idle": "2024-04-08T22:38:41.402896Z",
     "shell.execute_reply": "2024-04-08T22:38:41.402132Z"
    },
    "papermill": {
     "duration": 0.036184,
     "end_time": "2024-04-08T22:38:41.404832",
     "exception": false,
     "start_time": "2024-04-08T22:38:41.368648",
     "status": "completed"
    },
    "tags": []
   },
   "outputs": [
    {
     "data": {
      "text/html": [
       "<style>#sk-container-id-1 {color: black;background-color: white;}#sk-container-id-1 pre{padding: 0;}#sk-container-id-1 div.sk-toggleable {background-color: white;}#sk-container-id-1 label.sk-toggleable__label {cursor: pointer;display: block;width: 100%;margin-bottom: 0;padding: 0.3em;box-sizing: border-box;text-align: center;}#sk-container-id-1 label.sk-toggleable__label-arrow:before {content: \"▸\";float: left;margin-right: 0.25em;color: #696969;}#sk-container-id-1 label.sk-toggleable__label-arrow:hover:before {color: black;}#sk-container-id-1 div.sk-estimator:hover label.sk-toggleable__label-arrow:before {color: black;}#sk-container-id-1 div.sk-toggleable__content {max-height: 0;max-width: 0;overflow: hidden;text-align: left;background-color: #f0f8ff;}#sk-container-id-1 div.sk-toggleable__content pre {margin: 0.2em;color: black;border-radius: 0.25em;background-color: #f0f8ff;}#sk-container-id-1 input.sk-toggleable__control:checked~div.sk-toggleable__content {max-height: 200px;max-width: 100%;overflow: auto;}#sk-container-id-1 input.sk-toggleable__control:checked~label.sk-toggleable__label-arrow:before {content: \"▾\";}#sk-container-id-1 div.sk-estimator input.sk-toggleable__control:checked~label.sk-toggleable__label {background-color: #d4ebff;}#sk-container-id-1 div.sk-label input.sk-toggleable__control:checked~label.sk-toggleable__label {background-color: #d4ebff;}#sk-container-id-1 input.sk-hidden--visually {border: 0;clip: rect(1px 1px 1px 1px);clip: rect(1px, 1px, 1px, 1px);height: 1px;margin: -1px;overflow: hidden;padding: 0;position: absolute;width: 1px;}#sk-container-id-1 div.sk-estimator {font-family: monospace;background-color: #f0f8ff;border: 1px dotted black;border-radius: 0.25em;box-sizing: border-box;margin-bottom: 0.5em;}#sk-container-id-1 div.sk-estimator:hover {background-color: #d4ebff;}#sk-container-id-1 div.sk-parallel-item::after {content: \"\";width: 100%;border-bottom: 1px solid gray;flex-grow: 1;}#sk-container-id-1 div.sk-label:hover label.sk-toggleable__label {background-color: #d4ebff;}#sk-container-id-1 div.sk-serial::before {content: \"\";position: absolute;border-left: 1px solid gray;box-sizing: border-box;top: 0;bottom: 0;left: 50%;z-index: 0;}#sk-container-id-1 div.sk-serial {display: flex;flex-direction: column;align-items: center;background-color: white;padding-right: 0.2em;padding-left: 0.2em;position: relative;}#sk-container-id-1 div.sk-item {position: relative;z-index: 1;}#sk-container-id-1 div.sk-parallel {display: flex;align-items: stretch;justify-content: center;background-color: white;position: relative;}#sk-container-id-1 div.sk-item::before, #sk-container-id-1 div.sk-parallel-item::before {content: \"\";position: absolute;border-left: 1px solid gray;box-sizing: border-box;top: 0;bottom: 0;left: 50%;z-index: -1;}#sk-container-id-1 div.sk-parallel-item {display: flex;flex-direction: column;z-index: 1;position: relative;background-color: white;}#sk-container-id-1 div.sk-parallel-item:first-child::after {align-self: flex-end;width: 50%;}#sk-container-id-1 div.sk-parallel-item:last-child::after {align-self: flex-start;width: 50%;}#sk-container-id-1 div.sk-parallel-item:only-child::after {width: 0;}#sk-container-id-1 div.sk-dashed-wrapped {border: 1px dashed gray;margin: 0 0.4em 0.5em 0.4em;box-sizing: border-box;padding-bottom: 0.4em;background-color: white;}#sk-container-id-1 div.sk-label label {font-family: monospace;font-weight: bold;display: inline-block;line-height: 1.2em;}#sk-container-id-1 div.sk-label-container {text-align: center;}#sk-container-id-1 div.sk-container {/* jupyter's `normalize.less` sets `[hidden] { display: none; }` but bootstrap.min.css set `[hidden] { display: none !important; }` so we also need the `!important` here to be able to override the default hidden behavior on the sphinx rendered scikit-learn.org. See: https://github.com/scikit-learn/scikit-learn/issues/21755 */display: inline-block !important;position: relative;}#sk-container-id-1 div.sk-text-repr-fallback {display: none;}</style><div id=\"sk-container-id-1\" class=\"sk-top-container\"><div class=\"sk-text-repr-fallback\"><pre>NearestNeighbors(metric=&#x27;cosine&#x27;)</pre><b>In a Jupyter environment, please rerun this cell to show the HTML representation or trust the notebook. <br />On GitHub, the HTML representation is unable to render, please try loading this page with nbviewer.org.</b></div><div class=\"sk-container\" hidden><div class=\"sk-item\"><div class=\"sk-estimator sk-toggleable\"><input class=\"sk-toggleable__control sk-hidden--visually\" id=\"sk-estimator-id-1\" type=\"checkbox\" checked><label for=\"sk-estimator-id-1\" class=\"sk-toggleable__label sk-toggleable__label-arrow\">NearestNeighbors</label><div class=\"sk-toggleable__content\"><pre>NearestNeighbors(metric=&#x27;cosine&#x27;)</pre></div></div></div></div></div>"
      ],
      "text/plain": [
       "NearestNeighbors(metric='cosine')"
      ]
     },
     "execution_count": 27,
     "metadata": {},
     "output_type": "execute_result"
    }
   ],
   "source": [
    "model = NearestNeighbors(metric='cosine')\n",
    "model.fit(df.values)"
   ]
  },
  {
   "cell_type": "code",
   "execution_count": 28,
   "id": "82c43cab",
   "metadata": {
    "execution": {
     "iopub.execute_input": "2024-04-08T22:38:41.455063Z",
     "iopub.status.busy": "2024-04-08T22:38:41.454035Z",
     "iopub.status.idle": "2024-04-08T22:38:41.460645Z",
     "shell.execute_reply": "2024-04-08T22:38:41.459851Z"
    },
    "papermill": {
     "duration": 0.034472,
     "end_time": "2024-04-08T22:38:41.462750",
     "exception": false,
     "start_time": "2024-04-08T22:38:41.428278",
     "status": "completed"
    },
    "tags": []
   },
   "outputs": [
    {
     "data": {
      "text/plain": [
       "(888,)"
      ]
     },
     "execution_count": 28,
     "metadata": {},
     "output_type": "execute_result"
    }
   ],
   "source": [
    "df.iloc[0].shape"
   ]
  },
  {
   "cell_type": "code",
   "execution_count": 29,
   "id": "db9e2b44",
   "metadata": {
    "execution": {
     "iopub.execute_input": "2024-04-08T22:38:41.513008Z",
     "iopub.status.busy": "2024-04-08T22:38:41.512328Z",
     "iopub.status.idle": "2024-04-08T22:38:41.518519Z",
     "shell.execute_reply": "2024-04-08T22:38:41.517603Z"
    },
    "papermill": {
     "duration": 0.034119,
     "end_time": "2024-04-08T22:38:41.520648",
     "exception": false,
     "start_time": "2024-04-08T22:38:41.486529",
     "status": "completed"
    },
    "tags": []
   },
   "outputs": [
    {
     "data": {
      "text/plain": [
       "(888,)"
      ]
     },
     "execution_count": 29,
     "metadata": {},
     "output_type": "execute_result"
    }
   ],
   "source": [
    "title = 'The Queen of the Damned (Vampire Chronicles (Paperback))'\n",
    "df.loc[title].shape"
   ]
  },
  {
   "cell_type": "code",
   "execution_count": 30,
   "id": "5ed2e52b",
   "metadata": {
    "execution": {
     "iopub.execute_input": "2024-04-08T22:38:41.570296Z",
     "iopub.status.busy": "2024-04-08T22:38:41.569659Z",
     "iopub.status.idle": "2024-04-08T22:38:41.667402Z",
     "shell.execute_reply": "2024-04-08T22:38:41.666144Z"
    },
    "papermill": {
     "duration": 0.126635,
     "end_time": "2024-04-08T22:38:41.671084",
     "exception": false,
     "start_time": "2024-04-08T22:38:41.544449",
     "status": "completed"
    },
    "tags": []
   },
   "outputs": [
    {
     "name": "stdout",
     "output_type": "stream",
     "text": [
      "[[1.11022302e-16 5.17841186e-01 5.37633845e-01 7.34506886e-01\n",
      "  7.44865700e-01 7.93983542e-01]]\n",
      "[[612 660 648 272 667 110]]\n"
     ]
    }
   ],
   "source": [
    "distance, indice = model.kneighbors([df.loc[title].values], n_neighbors=6)\n",
    "\n",
    "print(distance)\n",
    "print(indice)"
   ]
  },
  {
   "cell_type": "code",
   "execution_count": 31,
   "id": "fc1d24ac",
   "metadata": {
    "execution": {
     "iopub.execute_input": "2024-04-08T22:38:41.757211Z",
     "iopub.status.busy": "2024-04-08T22:38:41.756577Z",
     "iopub.status.idle": "2024-04-08T22:38:41.773736Z",
     "shell.execute_reply": "2024-04-08T22:38:41.771818Z"
    },
    "papermill": {
     "duration": 0.065131,
     "end_time": "2024-04-08T22:38:41.778396",
     "exception": false,
     "start_time": "2024-04-08T22:38:41.713265",
     "status": "completed"
    },
    "tags": []
   },
   "outputs": [
    {
     "data": {
      "text/plain": [
       "array(['The Queen of the Damned (Vampire Chronicles (Paperback))',\n",
       "       'The Vampire Lestat (Vampire Chronicles, Book II)',\n",
       "       'The Tale of the Body Thief (Vampire Chronicles (Paperback))',\n",
       "       'Interview with the Vampire',\n",
       "       'The Witching Hour (Lives of the Mayfair Witches)', 'Catch 22'],\n",
       "      dtype=object)"
      ]
     },
     "execution_count": 31,
     "metadata": {},
     "output_type": "execute_result"
    }
   ],
   "source": [
    "df.iloc[indice[0]].index.values"
   ]
  },
  {
   "cell_type": "code",
   "execution_count": null,
   "id": "f19f6318",
   "metadata": {
    "execution": {
     "iopub.execute_input": "2024-04-08T22:38:41.834158Z",
     "iopub.status.busy": "2024-04-08T22:38:41.833743Z",
     "iopub.status.idle": "2024-04-08T22:38:41.847484Z",
     "shell.execute_reply": "2024-04-08T22:38:41.846348Z"
    },
    "papermill": {
     "duration": 0.043484,
     "end_time": "2024-04-08T22:38:41.849937",
     "exception": false,
     "start_time": "2024-04-08T22:38:41.806453",
     "status": "completed"
    },
    "tags": []
   },
   "outputs": [
    {
     "data": {
      "text/html": [
       "<div>\n",
       "<style scoped>\n",
       "    .dataframe tbody tr th:only-of-type {\n",
       "        vertical-align: middle;\n",
       "    }\n",
       "\n",
       "    .dataframe tbody tr th {\n",
       "        vertical-align: top;\n",
       "    }\n",
       "\n",
       "    .dataframe thead th {\n",
       "        text-align: right;\n",
       "    }\n",
       "</style>\n",
       "<table border=\"1\" class=\"dataframe\">\n",
       "  <thead>\n",
       "    <tr style=\"text-align: right;\">\n",
       "      <th></th>\n",
       "      <th>title</th>\n",
       "      <th>distance</th>\n",
       "    </tr>\n",
       "  </thead>\n",
       "  <tbody>\n",
       "    <tr>\n",
       "      <th>5</th>\n",
       "      <td>Catch 22</td>\n",
       "      <td>7.939835e-01</td>\n",
       "    </tr>\n",
       "    <tr>\n",
       "      <th>4</th>\n",
       "      <td>The Witching Hour (Lives of the Mayfair Witches)</td>\n",
       "      <td>7.448657e-01</td>\n",
       "    </tr>\n",
       "    <tr>\n",
       "      <th>3</th>\n",
       "      <td>Interview with the Vampire</td>\n",
       "      <td>7.345069e-01</td>\n",
       "    </tr>\n",
       "    <tr>\n",
       "      <th>2</th>\n",
       "      <td>The Tale of the Body Thief (Vampire Chronicles (Paperback))</td>\n",
       "      <td>5.376338e-01</td>\n",
       "    </tr>\n",
       "    <tr>\n",
       "      <th>1</th>\n",
       "      <td>The Vampire Lestat (Vampire Chronicles, Book II)</td>\n",
       "      <td>5.178412e-01</td>\n",
       "    </tr>\n",
       "    <tr>\n",
       "      <th>0</th>\n",
       "      <td>The Queen of the Damned (Vampire Chronicles (Paperback))</td>\n",
       "      <td>1.110223e-16</td>\n",
       "    </tr>\n",
       "  </tbody>\n",
       "</table>\n",
       "</div>"
      ],
      "text/plain": [
       "                                                         title      distance\n",
       "5                                                     Catch 22  7.939835e-01\n",
       "4             The Witching Hour (Lives of the Mayfair Witches)  7.448657e-01\n",
       "3                                   Interview with the Vampire  7.345069e-01\n",
       "2  The Tale of the Body Thief (Vampire Chronicles (Paperback))  5.376338e-01\n",
       "1             The Vampire Lestat (Vampire Chronicles, Book II)  5.178412e-01\n",
       "0     The Queen of the Damned (Vampire Chronicles (Paperback))  1.110223e-16"
      ]
     },
     "execution_count": 32,
     "metadata": {},
     "output_type": "execute_result"
    }
   ],
   "source": [
    "pd.DataFrame({\n",
    "    'title'   : df.iloc[indice[0]].index.values,\n",
    "    'distance': distance[0]\n",
    "}) \\\n",
    ".sort_values(by='distance', ascending=False)"
   ]
  },
  {
   "cell_type": "markdown",
   "id": "66745227",
   "metadata": {},
   "source": [
    "# # Model Prediction"
   ]
  },
  {
   "cell_type": "code",
   "execution_count": 33,
   "id": "ac8775e0",
   "metadata": {
    "execution": {
     "iopub.execute_input": "2024-04-08T22:38:41.953507Z",
     "iopub.status.busy": "2024-04-08T22:38:41.953084Z",
     "iopub.status.idle": "2024-04-08T22:38:41.960585Z",
     "shell.execute_reply": "2024-04-08T22:38:41.959213Z"
    },
    "papermill": {
     "duration": 0.036655,
     "end_time": "2024-04-08T22:38:41.962662",
     "exception": false,
     "start_time": "2024-04-08T22:38:41.926007",
     "status": "completed"
    },
    "tags": []
   },
   "outputs": [],
   "source": [
    "# function to return recommended books - this will be tested\n",
    "def get_recommends(title = \"\"):\n",
    "  try:\n",
    "    book = df.loc[title]\n",
    "  except KeyError as e:\n",
    "    print('The given book', e, 'does not exist')\n",
    "    return\n",
    "\n",
    "  distance, indice = model.kneighbors([book.values], n_neighbors=6)\n",
    "\n",
    "  recommended_books = pd.DataFrame({\n",
    "      'title'   : df.iloc[indice[0]].index.values,\n",
    "      'distance': distance[0]\n",
    "    }) \\\n",
    "    .sort_values(by='distance', ascending=False) \\\n",
    "    .head(5).values\n",
    "\n",
    "  return [title, recommended_books]"
   ]
  },
  {
   "cell_type": "code",
   "execution_count": 34,
   "id": "98cd82b4",
   "metadata": {
    "execution": {
     "iopub.execute_input": "2024-04-08T22:38:42.063107Z",
     "iopub.status.busy": "2024-04-08T22:38:42.062612Z",
     "iopub.status.idle": "2024-04-08T22:38:42.077913Z",
     "shell.execute_reply": "2024-04-08T22:38:42.076725Z"
    },
    "papermill": {
     "duration": 0.044654,
     "end_time": "2024-04-08T22:38:42.081197",
     "exception": false,
     "start_time": "2024-04-08T22:38:42.036543",
     "status": "completed"
    },
    "tags": []
   },
   "outputs": [
    {
     "name": "stdout",
     "output_type": "stream",
     "text": [
      "['The Queen of the Damned (Vampire Chronicles (Paperback))', array([['Catch 22', 0.7939835419270879],\n",
      "       ['The Witching Hour (Lives of the Mayfair Witches)',\n",
      "        0.7448657003312193],\n",
      "       ['Interview with the Vampire', 0.7345068863988313],\n",
      "       ['The Tale of the Body Thief (Vampire Chronicles (Paperback))',\n",
      "        0.5376338446489461],\n",
      "       ['The Vampire Lestat (Vampire Chronicles, Book II)',\n",
      "        0.5178411864186412]], dtype=object)]\n"
     ]
    }
   ],
   "source": [
    "books = get_recommends(\"The Queen of the Damned (Vampire Chronicles (Paperback))\")\n",
    "print(books)"
   ]
  },
  {
   "cell_type": "code",
   "execution_count": null,
   "id": "abef9fb5",
   "metadata": {
    "execution": {
     "iopub.execute_input": "2024-04-08T22:38:42.167236Z",
     "iopub.status.busy": "2024-04-08T22:38:42.166601Z",
     "iopub.status.idle": "2024-04-08T22:38:42.183959Z",
     "shell.execute_reply": "2024-04-08T22:38:42.182832Z"
    },
    "papermill": {
     "duration": 0.062555,
     "end_time": "2024-04-08T22:38:42.186927",
     "exception": false,
     "start_time": "2024-04-08T22:38:42.124372",
     "status": "completed"
    },
    "tags": []
   },
   "outputs": [
    {
     "name": "stdout",
     "output_type": "stream",
     "text": [
      "[\"Where the Heart Is (Oprah's Book Club (Paperback))\", array([[\"I'll Be Seeing You\", 0.8016210581447822],\n",
      "       ['The Weight of Water', 0.7708583572697412],\n",
      "       ['The Surgeon', 0.7699410973804288],\n",
      "       ['I Know This Much Is True', 0.7677075092617776],\n",
      "       ['The Lovely Bones: A Novel', 0.7234864549790632]], dtype=object)]\n"
     ]
    }
   ],
   "source": [
    "books = get_recommends(\"Where the Heart Is (Oprah's Book Club (Paperback))\")\n",
    "print(books)"
   ]
  }
 ],
 "metadata": {
  "kaggle": {
   "accelerator": "none",
   "dataSources": [
    {
     "datasetId": 1004280,
     "sourceId": 7595263,
     "sourceType": "datasetVersion"
    }
   ],
   "dockerImageVersionId": 30684,
   "isGpuEnabled": false,
   "isInternetEnabled": true,
   "language": "python",
   "sourceType": "notebook"
  },
  "kernelspec": {
   "display_name": "Python 3",
   "language": "python",
   "name": "python3"
  },
  "language_info": {
   "codemirror_mode": {
    "name": "ipython",
    "version": 3
   },
   "file_extension": ".py",
   "mimetype": "text/x-python",
   "name": "python",
   "nbconvert_exporter": "python",
   "pygments_lexer": "ipython3",
   "version": "3.10.13"
  },
  "papermill": {
   "default_parameters": {},
   "duration": 15.442837,
   "end_time": "2024-04-08T22:38:43.027476",
   "environment_variables": {},
   "exception": null,
   "input_path": "__notebook__.ipynb",
   "output_path": "__notebook__.ipynb",
   "parameters": {},
   "start_time": "2024-04-08T22:38:27.584639",
   "version": "2.5.0"
  }
 },
 "nbformat": 4,
 "nbformat_minor": 5
}
