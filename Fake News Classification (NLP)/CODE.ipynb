{
 "cells": [
  {
   "cell_type": "markdown",
   "metadata": {},
   "source": [
    "# **Fake News Classification using Natural Language Processing (NLP)**\n",
    "\n",
    "## Dataset Description:\n",
    "* Dataset link: [https://www.kaggle.com/datasets/aadyasingh55/fake-news-classification](https://www.kaggle.com/datasets/aadyasingh55/fake-news-classification)\n",
    "* The Fake News Classification Dataset is an English-language dataset containing just over 45,000 unique news articles. These articles are classified as true (1) or false (0).\n",
    "\n",
    "#### Data Fields\n",
    "* id: Integer value counting the rows in the dataset.\n",
    "* title: String summarizing the article.\n",
    "* text: String containing the article content.\n",
    "* label: Boolean indicating if the article is true (1) or false (0).\n",
    "\n",
    "#### Data Splits\n",
    "The dataset is divided into three splits:\n",
    "* Train: 24,353 instances\n",
    "* Validation: 8,117 instances\n",
    "* Test: 8,117 instances"
   ]
  },
  {
   "cell_type": "markdown",
   "metadata": {},
   "source": [
    "#"
   ]
  },
  {
   "cell_type": "markdown",
   "metadata": {},
   "source": [
    "### Import neccessary libraries"
   ]
  },
  {
   "cell_type": "code",
   "execution_count": null,
   "metadata": {
    "execution": {
     "iopub.execute_input": "2024-12-03T16:38:17.247213Z",
     "iopub.status.busy": "2024-12-03T16:38:17.246784Z",
     "iopub.status.idle": "2024-12-03T16:38:17.253384Z",
     "shell.execute_reply": "2024-12-03T16:38:17.252015Z",
     "shell.execute_reply.started": "2024-12-03T16:38:17.247171Z"
    },
    "trusted": true
   },
   "outputs": [],
   "source": [
    "import numpy as np\n",
    "import pandas as pd\n",
    "import matplotlib.pyplot as plt\n",
    "import seaborn as sns"
   ]
  },
  {
   "cell_type": "markdown",
   "metadata": {},
   "source": [
    "# # Data Collection"
   ]
  },
  {
   "cell_type": "code",
   "execution_count": 2,
   "metadata": {
    "execution": {
     "iopub.execute_input": "2024-12-03T16:38:18.509957Z",
     "iopub.status.busy": "2024-12-03T16:38:18.509506Z",
     "iopub.status.idle": "2024-12-03T16:38:19.557964Z",
     "shell.execute_reply": "2024-12-03T16:38:19.556713Z",
     "shell.execute_reply.started": "2024-12-03T16:38:18.509894Z"
    },
    "trusted": true
   },
   "outputs": [
    {
     "data": {
      "text/html": [
       "<div>\n",
       "<style scoped>\n",
       "    .dataframe tbody tr th:only-of-type {\n",
       "        vertical-align: middle;\n",
       "    }\n",
       "\n",
       "    .dataframe tbody tr th {\n",
       "        vertical-align: top;\n",
       "    }\n",
       "\n",
       "    .dataframe thead th {\n",
       "        text-align: right;\n",
       "    }\n",
       "</style>\n",
       "<table border=\"1\" class=\"dataframe\">\n",
       "  <thead>\n",
       "    <tr style=\"text-align: right;\">\n",
       "      <th></th>\n",
       "      <th>Unnamed: 0</th>\n",
       "      <th>title</th>\n",
       "      <th>text</th>\n",
       "      <th>label</th>\n",
       "    </tr>\n",
       "  </thead>\n",
       "  <tbody>\n",
       "    <tr>\n",
       "      <th>0</th>\n",
       "      <td>0</td>\n",
       "      <td>Palestinians switch off Christmas lights in Be...</td>\n",
       "      <td>RAMALLAH, West Bank (Reuters) - Palestinians s...</td>\n",
       "      <td>1</td>\n",
       "    </tr>\n",
       "    <tr>\n",
       "      <th>1</th>\n",
       "      <td>1</td>\n",
       "      <td>China says Trump call with Taiwan president wo...</td>\n",
       "      <td>BEIJING (Reuters) - U.S. President-elect Donal...</td>\n",
       "      <td>1</td>\n",
       "    </tr>\n",
       "    <tr>\n",
       "      <th>2</th>\n",
       "      <td>2</td>\n",
       "      <td>FAIL! The Trump Organization’s Credit Score W...</td>\n",
       "      <td>While the controversy over Trump s personal ta...</td>\n",
       "      <td>0</td>\n",
       "    </tr>\n",
       "    <tr>\n",
       "      <th>3</th>\n",
       "      <td>3</td>\n",
       "      <td>Zimbabwe military chief's China trip was norma...</td>\n",
       "      <td>BEIJING (Reuters) - A trip to Beijing last wee...</td>\n",
       "      <td>1</td>\n",
       "    </tr>\n",
       "    <tr>\n",
       "      <th>4</th>\n",
       "      <td>4</td>\n",
       "      <td>THE MOST UNCOURAGEOUS PRESIDENT EVER Receives ...</td>\n",
       "      <td>There has never been a more UNCOURAGEOUS perso...</td>\n",
       "      <td>0</td>\n",
       "    </tr>\n",
       "    <tr>\n",
       "      <th>...</th>\n",
       "      <td>...</td>\n",
       "      <td>...</td>\n",
       "      <td>...</td>\n",
       "      <td>...</td>\n",
       "    </tr>\n",
       "    <tr>\n",
       "      <th>24348</th>\n",
       "      <td>24348</td>\n",
       "      <td>Mexico Senate committee OK's air transport dea...</td>\n",
       "      <td>MEXICO CITY (Reuters) - A key committee in Mex...</td>\n",
       "      <td>1</td>\n",
       "    </tr>\n",
       "    <tr>\n",
       "      <th>24349</th>\n",
       "      <td>24349</td>\n",
       "      <td>BREAKING: HILLARY CLINTON’S STATE DEPARTMENT G...</td>\n",
       "      <td>IF SHE S NOT TOAST NOW THEN WE RE IN BIGGER TR...</td>\n",
       "      <td>0</td>\n",
       "    </tr>\n",
       "    <tr>\n",
       "      <th>24350</th>\n",
       "      <td>24350</td>\n",
       "      <td>trump breaks from stump speech to admire beaut...</td>\n",
       "      <td>kremlin nato was created for agression  \\nruss...</td>\n",
       "      <td>0</td>\n",
       "    </tr>\n",
       "    <tr>\n",
       "      <th>24351</th>\n",
       "      <td>24351</td>\n",
       "      <td>NFL PLAYER Delivers Courageous Message: Stop B...</td>\n",
       "      <td>Dallas Cowboys star wide receiver Dez Bryant t...</td>\n",
       "      <td>0</td>\n",
       "    </tr>\n",
       "    <tr>\n",
       "      <th>24352</th>\n",
       "      <td>24352</td>\n",
       "      <td>NORDSTROM STOCK TAKES NOSEDIVE After Trump Twe...</td>\n",
       "      <td>UPDATE: Nordstrom stock closed up slightly tod...</td>\n",
       "      <td>0</td>\n",
       "    </tr>\n",
       "  </tbody>\n",
       "</table>\n",
       "<p>24353 rows × 4 columns</p>\n",
       "</div>"
      ],
      "text/plain": [
       "       Unnamed: 0                                              title  \\\n",
       "0               0  Palestinians switch off Christmas lights in Be...   \n",
       "1               1  China says Trump call with Taiwan president wo...   \n",
       "2               2   FAIL! The Trump Organization’s Credit Score W...   \n",
       "3               3  Zimbabwe military chief's China trip was norma...   \n",
       "4               4  THE MOST UNCOURAGEOUS PRESIDENT EVER Receives ...   \n",
       "...           ...                                                ...   \n",
       "24348       24348  Mexico Senate committee OK's air transport dea...   \n",
       "24349       24349  BREAKING: HILLARY CLINTON’S STATE DEPARTMENT G...   \n",
       "24350       24350  trump breaks from stump speech to admire beaut...   \n",
       "24351       24351  NFL PLAYER Delivers Courageous Message: Stop B...   \n",
       "24352       24352  NORDSTROM STOCK TAKES NOSEDIVE After Trump Twe...   \n",
       "\n",
       "                                                    text  label  \n",
       "0      RAMALLAH, West Bank (Reuters) - Palestinians s...      1  \n",
       "1      BEIJING (Reuters) - U.S. President-elect Donal...      1  \n",
       "2      While the controversy over Trump s personal ta...      0  \n",
       "3      BEIJING (Reuters) - A trip to Beijing last wee...      1  \n",
       "4      There has never been a more UNCOURAGEOUS perso...      0  \n",
       "...                                                  ...    ...  \n",
       "24348  MEXICO CITY (Reuters) - A key committee in Mex...      1  \n",
       "24349  IF SHE S NOT TOAST NOW THEN WE RE IN BIGGER TR...      0  \n",
       "24350  kremlin nato was created for agression  \\nruss...      0  \n",
       "24351  Dallas Cowboys star wide receiver Dez Bryant t...      0  \n",
       "24352  UPDATE: Nordstrom stock closed up slightly tod...      0  \n",
       "\n",
       "[24353 rows x 4 columns]"
      ]
     },
     "execution_count": 2,
     "metadata": {},
     "output_type": "execute_result"
    }
   ],
   "source": [
    "df = pd.read_csv(r\"Dataset\\train.csv\", sep=\";\")\n",
    "df"
   ]
  },
  {
   "cell_type": "code",
   "execution_count": null,
   "metadata": {
    "execution": {
     "iopub.execute_input": "2024-12-03T16:38:19.758467Z",
     "iopub.status.busy": "2024-12-03T16:38:19.757989Z",
     "iopub.status.idle": "2024-12-03T16:38:19.775112Z",
     "shell.execute_reply": "2024-12-03T16:38:19.773857Z",
     "shell.execute_reply.started": "2024-12-03T16:38:19.758428Z"
    },
    "trusted": true
   },
   "outputs": [
    {
     "data": {
      "text/html": [
       "<div>\n",
       "<style scoped>\n",
       "    .dataframe tbody tr th:only-of-type {\n",
       "        vertical-align: middle;\n",
       "    }\n",
       "\n",
       "    .dataframe tbody tr th {\n",
       "        vertical-align: top;\n",
       "    }\n",
       "\n",
       "    .dataframe thead th {\n",
       "        text-align: right;\n",
       "    }\n",
       "</style>\n",
       "<table border=\"1\" class=\"dataframe\">\n",
       "  <thead>\n",
       "    <tr style=\"text-align: right;\">\n",
       "      <th></th>\n",
       "      <th>text</th>\n",
       "      <th>label</th>\n",
       "    </tr>\n",
       "  </thead>\n",
       "  <tbody>\n",
       "    <tr>\n",
       "      <th>0</th>\n",
       "      <td>RAMALLAH, West Bank (Reuters) - Palestinians s...</td>\n",
       "      <td>1</td>\n",
       "    </tr>\n",
       "    <tr>\n",
       "      <th>1</th>\n",
       "      <td>BEIJING (Reuters) - U.S. President-elect Donal...</td>\n",
       "      <td>1</td>\n",
       "    </tr>\n",
       "    <tr>\n",
       "      <th>2</th>\n",
       "      <td>While the controversy over Trump s personal ta...</td>\n",
       "      <td>0</td>\n",
       "    </tr>\n",
       "    <tr>\n",
       "      <th>3</th>\n",
       "      <td>BEIJING (Reuters) - A trip to Beijing last wee...</td>\n",
       "      <td>1</td>\n",
       "    </tr>\n",
       "    <tr>\n",
       "      <th>4</th>\n",
       "      <td>There has never been a more UNCOURAGEOUS perso...</td>\n",
       "      <td>0</td>\n",
       "    </tr>\n",
       "    <tr>\n",
       "      <th>...</th>\n",
       "      <td>...</td>\n",
       "      <td>...</td>\n",
       "    </tr>\n",
       "    <tr>\n",
       "      <th>24348</th>\n",
       "      <td>MEXICO CITY (Reuters) - A key committee in Mex...</td>\n",
       "      <td>1</td>\n",
       "    </tr>\n",
       "    <tr>\n",
       "      <th>24349</th>\n",
       "      <td>IF SHE S NOT TOAST NOW THEN WE RE IN BIGGER TR...</td>\n",
       "      <td>0</td>\n",
       "    </tr>\n",
       "    <tr>\n",
       "      <th>24350</th>\n",
       "      <td>kremlin nato was created for agression  \\nruss...</td>\n",
       "      <td>0</td>\n",
       "    </tr>\n",
       "    <tr>\n",
       "      <th>24351</th>\n",
       "      <td>Dallas Cowboys star wide receiver Dez Bryant t...</td>\n",
       "      <td>0</td>\n",
       "    </tr>\n",
       "    <tr>\n",
       "      <th>24352</th>\n",
       "      <td>UPDATE: Nordstrom stock closed up slightly tod...</td>\n",
       "      <td>0</td>\n",
       "    </tr>\n",
       "  </tbody>\n",
       "</table>\n",
       "<p>24353 rows × 2 columns</p>\n",
       "</div>"
      ],
      "text/plain": [
       "                                                    text  label\n",
       "0      RAMALLAH, West Bank (Reuters) - Palestinians s...      1\n",
       "1      BEIJING (Reuters) - U.S. President-elect Donal...      1\n",
       "2      While the controversy over Trump s personal ta...      0\n",
       "3      BEIJING (Reuters) - A trip to Beijing last wee...      1\n",
       "4      There has never been a more UNCOURAGEOUS perso...      0\n",
       "...                                                  ...    ...\n",
       "24348  MEXICO CITY (Reuters) - A key committee in Mex...      1\n",
       "24349  IF SHE S NOT TOAST NOW THEN WE RE IN BIGGER TR...      0\n",
       "24350  kremlin nato was created for agression  \\nruss...      0\n",
       "24351  Dallas Cowboys star wide receiver Dez Bryant t...      0\n",
       "24352  UPDATE: Nordstrom stock closed up slightly tod...      0\n",
       "\n",
       "[24353 rows x 2 columns]"
      ]
     },
     "execution_count": 59,
     "metadata": {},
     "output_type": "execute_result"
    }
   ],
   "source": [
    "df = df[['text', 'label']]\n",
    "df"
   ]
  },
  {
   "cell_type": "code",
   "execution_count": null,
   "metadata": {
    "execution": {
     "iopub.execute_input": "2024-12-03T16:38:21.714169Z",
     "iopub.status.busy": "2024-12-03T16:38:21.713756Z",
     "iopub.status.idle": "2024-12-03T16:38:22.000348Z",
     "shell.execute_reply": "2024-12-03T16:38:21.999196Z",
     "shell.execute_reply.started": "2024-12-03T16:38:21.714132Z"
    },
    "trusted": true
   },
   "outputs": [
    {
     "name": "stdout",
     "output_type": "stream",
     "text": [
      "label\n",
      "1    13246\n",
      "0    11107\n",
      "Name: count, dtype: int64\n"
     ]
    },
    {
     "data": {
      "text/plain": [
       "<Axes: title={'center': 'News Label distribution'}, xlabel='Label', ylabel='Count'>"
      ]
     },
     "execution_count": 60,
     "metadata": {},
     "output_type": "execute_result"
    },
    {
     "data": {
      "image/png": "[encoded data removed]",
      "text/plain": [
       "<Figure size 640x480 with 1 Axes>"
      ]
     },
     "metadata": {},
     "output_type": "display_data"
    }
   ],
   "source": [
    "## Label Distribution\n",
    "\n",
    "print(df['label'].value_counts())\n",
    "\n",
    "category_counts = df['label'].value_counts().reset_index()\n",
    "category_counts.columns = ['Label', 'Count']\n",
    "\n",
    "plt.title(\"News Label distribution\")\n",
    "plt.xlabel(\"Label\")\n",
    "plt.ylabel(\"Count\")\n",
    "\n",
    "sns.set_theme(style=\"whitegrid\")\n",
    "sns.barplot(x='Label', y='Count', data=category_counts, palette='pastel')"
   ]
  },
  {
   "cell_type": "code",
   "execution_count": null,
   "metadata": {
    "execution": {
     "iopub.execute_input": "2024-12-03T16:38:24.820832Z",
     "iopub.status.busy": "2024-12-03T16:38:24.820414Z",
     "iopub.status.idle": "2024-12-03T16:38:24.850059Z",
     "shell.execute_reply": "2024-12-03T16:38:24.848698Z",
     "shell.execute_reply.started": "2024-12-03T16:38:24.820796Z"
    },
    "trusted": true
   },
   "outputs": [
    {
     "data": {
      "text/plain": [
       "count    24353.000000\n",
       "mean      2501.703774\n",
       "std       2114.691683\n",
       "min          1.000000\n",
       "25%       1301.000000\n",
       "50%       2224.000000\n",
       "75%       3131.000000\n",
       "max      48835.000000\n",
       "Name: text, dtype: float64"
      ]
     },
     "execution_count": 61,
     "metadata": {},
     "output_type": "execute_result"
    }
   ],
   "source": [
    "## statistics description\n",
    "text_len_series = df['text'].apply(lambda x: len(x))\n",
    "text_len_series.describe()"
   ]
  },
  {
   "cell_type": "code",
   "execution_count": null,
   "metadata": {
    "execution": {
     "iopub.execute_input": "2024-12-03T16:38:27.206697Z",
     "iopub.status.busy": "2024-12-03T16:38:27.206264Z",
     "iopub.status.idle": "2024-12-03T16:38:27.221904Z",
     "shell.execute_reply": "2024-12-03T16:38:27.220672Z",
     "shell.execute_reply.started": "2024-12-03T16:38:27.206652Z"
    },
    "trusted": true
   },
   "outputs": [
    {
     "data": {
      "text/plain": [
       "'RAMALLAH, West Bank (Reuters) - Palestinians switched off Christmas lights at Jesus  traditional birthplace in Bethlehem on Wednesday night in protest at U.S. President Donald Trump s decision to recognize Jerusalem as Israel s capital. A Christmas tree adorned with lights outside Bethlehem s Church of the Nativity, where Christians believe Jesus was born, and another in Ramallah, next to the burial site of former Palestinian leader Yasser Arafat, were plunged into darkness.  The Christmas tree was switched off on the order of the mayor today in protest at Trump s decision,  said Fady Ghattas, Bethlehem s municipal media officer.  He said it was unclear whether the illuminations would be turned on again before the main Christmas festivities. In a speech in Washington, Trump said he had decided to recognize Jerusalem as Israel s capital and move the U.S. embassy to the city. Israeli Prime Minister Benjamin Netanyahu said Trump s move  marked the beginning of a new approach to the Israeli-Palestinian conflict and said it was an  historic landmark . Arabs and Muslims across the Middle East condemned the U.S. decision, calling it an incendiary move in a volatile region and the European Union and United Nations also voiced alarm at the possible repercussions for any chances of reviving Israeli-Palestinian peacemaking. '"
      ]
     },
     "execution_count": 62,
     "metadata": {},
     "output_type": "execute_result"
    }
   ],
   "source": [
    "# Sample data for True news\n",
    "df.query(\"label == 1\").text[0]"
   ]
  },
  {
   "cell_type": "code",
   "execution_count": null,
   "metadata": {
    "execution": {
     "iopub.execute_input": "2024-12-03T16:38:29.467080Z",
     "iopub.status.busy": "2024-12-03T16:38:29.466708Z",
     "iopub.status.idle": "2024-12-03T16:38:29.479141Z",
     "shell.execute_reply": "2024-12-03T16:38:29.477879Z",
     "shell.execute_reply.started": "2024-12-03T16:38:29.467037Z"
    },
    "trusted": true
   },
   "outputs": [
    {
     "data": {
      "text/plain": [
       "'While the controversy over Trump s personal tax returns continues, business credit rating company Nav decided to take a look at his business  credit, and published the results on their website. Nav, which actually does have an A+ rating from the Better Business Bureau (as opposed to Trump U. s final rating), pulled together the factors affecting business credit scores and discovered something truly laughable.The highest possible business score is 100. The Trump Organization s score is 19. Nineteen. As in more than 15 but less than 20, and it s actually dropped 18 points. This puts the company in the medium to high-risk category:The organization is considered highly likely to default on its debts, and it averages sending payments 17 days late. They also have six derogatories, which can be delinquent loans that have been turned over to collections, as well as tax liens and judgments against the organization. According to Nav, that last one usually means the business was the defendant in a lawsuit and is now required to pay damages to the plaintiff.Compare that to the Clinton Foundation, which has a score of 42. 42 isn t great, but it s a hell of a lot better than the Trump Organization s.*Note: The Clinton Foundation has been around since 1997, but has only been known in its current form for the last three years.Despite not having stellar credit either, the Clinton Foundation also has no derogatories and makes its payments on time.This whole thing is laughable considering the wonderful businessman Trump seems to think he is. It s even more laughable considering that Trump says nobody knows debt better than he does. In August, he boasted that he has  very little debt  relative to his assets.Regardless of whether that s true, the fact that the Trump Organization s credit score is so low suggests that Trump is either not nearly as good at managing what debt he does have as well as he claims, or he s not nearly as good at managing his businesses as well as he claims.This credit score is hilarious.Featured image by Scott Olson via Getty Images'"
      ]
     },
     "execution_count": 63,
     "metadata": {},
     "output_type": "execute_result"
    }
   ],
   "source": [
    "# Sample data for False news\n",
    "df.query(\"label == 0\").text[2]"
   ]
  },
  {
   "cell_type": "markdown",
   "metadata": {},
   "source": [
    "# # Data Preprocessing"
   ]
  },
  {
   "cell_type": "code",
   "execution_count": null,
   "metadata": {
    "execution": {
     "iopub.execute_input": "2024-12-03T16:38:31.626929Z",
     "iopub.status.busy": "2024-12-03T16:38:31.626499Z",
     "iopub.status.idle": "2024-12-03T16:38:31.693758Z",
     "shell.execute_reply": "2024-12-03T16:38:31.692545Z",
     "shell.execute_reply.started": "2024-12-03T16:38:31.626891Z"
    },
    "trusted": true
   },
   "outputs": [
    {
     "data": {
      "text/html": [
       "<div>\n",
       "<style scoped>\n",
       "    .dataframe tbody tr th:only-of-type {\n",
       "        vertical-align: middle;\n",
       "    }\n",
       "\n",
       "    .dataframe tbody tr th {\n",
       "        vertical-align: top;\n",
       "    }\n",
       "\n",
       "    .dataframe thead th {\n",
       "        text-align: right;\n",
       "    }\n",
       "</style>\n",
       "<table border=\"1\" class=\"dataframe\">\n",
       "  <thead>\n",
       "    <tr style=\"text-align: right;\">\n",
       "      <th></th>\n",
       "      <th>text</th>\n",
       "      <th>label</th>\n",
       "    </tr>\n",
       "  </thead>\n",
       "  <tbody>\n",
       "    <tr>\n",
       "      <th>18813</th>\n",
       "      <td>In its 109-year history, only one F.B.I. direc...</td>\n",
       "      <td>0</td>\n",
       "    </tr>\n",
       "  </tbody>\n",
       "</table>\n",
       "</div>"
      ],
      "text/plain": [
       "                                                    text  label\n",
       "18813  In its 109-year history, only one F.B.I. direc...      0"
      ]
     },
     "execution_count": 64,
     "metadata": {},
     "output_type": "execute_result"
    }
   ],
   "source": [
    "# Remove duplicates\n",
    "df[df.duplicated(subset=['text'])]"
   ]
  },
  {
   "cell_type": "code",
   "execution_count": null,
   "metadata": {
    "execution": {
     "iopub.execute_input": "2024-12-03T16:38:33.551075Z",
     "iopub.status.busy": "2024-12-03T16:38:33.550648Z",
     "iopub.status.idle": "2024-12-03T16:38:33.566173Z",
     "shell.execute_reply": "2024-12-03T16:38:33.564865Z",
     "shell.execute_reply.started": "2024-12-03T16:38:33.551033Z"
    },
    "trusted": true
   },
   "outputs": [],
   "source": [
    "df.drop_duplicates(subset=['text'], inplace=True)"
   ]
  },
  {
   "cell_type": "code",
   "execution_count": null,
   "metadata": {
    "execution": {
     "iopub.execute_input": "2024-12-03T16:38:36.379252Z",
     "iopub.status.busy": "2024-12-03T16:38:36.378868Z",
     "iopub.status.idle": "2024-12-03T16:38:36.389461Z",
     "shell.execute_reply": "2024-12-03T16:38:36.388162Z",
     "shell.execute_reply.started": "2024-12-03T16:38:36.379220Z"
    },
    "trusted": true
   },
   "outputs": [],
   "source": [
    "# Remove null values\n",
    "assert df.notna().size == df.size"
   ]
  },
  {
   "cell_type": "code",
   "execution_count": null,
   "metadata": {
    "execution": {
     "iopub.execute_input": "2024-12-03T16:38:38.102954Z",
     "iopub.status.busy": "2024-12-03T16:38:38.102512Z",
     "iopub.status.idle": "2024-12-03T16:38:38.108536Z",
     "shell.execute_reply": "2024-12-03T16:38:38.107007Z",
     "shell.execute_reply.started": "2024-12-03T16:38:38.102914Z"
    },
    "trusted": true
   },
   "outputs": [],
   "source": [
    "# Convert test into lowercase\n",
    "def to_lower(text):\n",
    "  return text.lower()\n",
    "\n",
    "df.text = df.text.apply(to_lower)"
   ]
  },
  {
   "cell_type": "code",
   "execution_count": null,
   "metadata": {
    "execution": {
     "iopub.execute_input": "2024-12-03T16:38:42.386467Z",
     "iopub.status.busy": "2024-12-03T16:38:42.386054Z",
     "iopub.status.idle": "2024-12-03T16:38:42.394257Z",
     "shell.execute_reply": "2024-12-03T16:38:42.393061Z",
     "shell.execute_reply.started": "2024-12-03T16:38:42.386428Z"
    },
    "trusted": true
   },
   "outputs": [
    {
     "data": {
      "text/plain": [
       "'!\"#$%&\\'()*+,-./:;<=>?@[\\\\]^_`{|}~'"
      ]
     },
     "execution_count": 69,
     "metadata": {},
     "output_type": "execute_result"
    }
   ],
   "source": [
    "# Remove punctuation\n",
    "\n",
    "import string\n",
    "string.punctuation"
   ]
  },
  {
   "cell_type": "code",
   "execution_count": null,
   "metadata": {
    "execution": {
     "iopub.execute_input": "2024-12-03T16:38:44.105288Z",
     "iopub.status.busy": "2024-12-03T16:38:44.104428Z",
     "iopub.status.idle": "2024-12-03T16:38:44.110624Z",
     "shell.execute_reply": "2024-12-03T16:38:44.109209Z",
     "shell.execute_reply.started": "2024-12-03T16:38:44.105242Z"
    },
    "trusted": true
   },
   "outputs": [],
   "source": [
    "def remove_punct(text):\n",
    "  return \"\".join([symbol for symbol in text if symbol not in string.punctuation])"
   ]
  },
  {
   "cell_type": "code",
   "execution_count": null,
   "metadata": {
    "execution": {
     "iopub.execute_input": "2024-12-03T16:38:46.541094Z",
     "iopub.status.busy": "2024-12-03T16:38:46.540680Z",
     "iopub.status.idle": "2024-12-03T16:38:46.548985Z",
     "shell.execute_reply": "2024-12-03T16:38:46.547705Z",
     "shell.execute_reply.started": "2024-12-03T16:38:46.541047Z"
    },
    "trusted": true
   },
   "outputs": [
    {
     "data": {
      "text/plain": [
       "'ramallah, west bank (reuters) - palestinians switched off christmas lights at jesus  traditional birthplace in bethlehem on wednesday night in protest at u.s. president donald trump s decision to recognize jerusalem as israel s capital. a christmas tree adorned with lights outside bethlehem s church of the nativity, where christians believe jesus was born, and another in ramallah, next to the burial site of former palestinian leader yasser arafat, were plunged into darkness.  the christmas tree was switched off on the order of the mayor today in protest at trump s decision,  said fady ghattas, bethlehem s municipal media officer.  he said it was unclear whether the illuminations would be turned on again before the main christmas festivities. in a speech in washington, trump said he had decided to recognize jerusalem as israel s capital and move the u.s. embassy to the city. israeli prime minister benjamin netanyahu said trump s move  marked the beginning of a new approach to the israeli-palestinian conflict and said it was an  historic landmark . arabs and muslims across the middle east condemned the u.s. decision, calling it an incendiary move in a volatile region and the european union and united nations also voiced alarm at the possible repercussions for any chances of reviving israeli-palestinian peacemaking. '"
      ]
     },
     "execution_count": 71,
     "metadata": {},
     "output_type": "execute_result"
    }
   ],
   "source": [
    "df.text[0]"
   ]
  },
  {
   "cell_type": "code",
   "execution_count": null,
   "metadata": {
    "execution": {
     "iopub.execute_input": "2024-12-03T16:38:49.767050Z",
     "iopub.status.busy": "2024-12-03T16:38:49.766646Z",
     "iopub.status.idle": "2024-12-03T16:38:49.774782Z",
     "shell.execute_reply": "2024-12-03T16:38:49.773507Z",
     "shell.execute_reply.started": "2024-12-03T16:38:49.767008Z"
    },
    "trusted": true
   },
   "outputs": [
    {
     "data": {
      "text/plain": [
       "'ramallah west bank reuters  palestinians switched off christmas lights at jesus  traditional birthplace in bethlehem on wednesday night in protest at us president donald trump s decision to recognize jerusalem as israel s capital a christmas tree adorned with lights outside bethlehem s church of the nativity where christians believe jesus was born and another in ramallah next to the burial site of former palestinian leader yasser arafat were plunged into darkness  the christmas tree was switched off on the order of the mayor today in protest at trump s decision  said fady ghattas bethlehem s municipal media officer  he said it was unclear whether the illuminations would be turned on again before the main christmas festivities in a speech in washington trump said he had decided to recognize jerusalem as israel s capital and move the us embassy to the city israeli prime minister benjamin netanyahu said trump s move  marked the beginning of a new approach to the israelipalestinian conflict and said it was an  historic landmark  arabs and muslims across the middle east condemned the us decision calling it an incendiary move in a volatile region and the european union and united nations also voiced alarm at the possible repercussions for any chances of reviving israelipalestinian peacemaking '"
      ]
     },
     "execution_count": 72,
     "metadata": {},
     "output_type": "execute_result"
    }
   ],
   "source": [
    "remove_punct(df.text[0])"
   ]
  },
  {
   "cell_type": "code",
   "execution_count": null,
   "metadata": {
    "execution": {
     "iopub.execute_input": "2024-12-03T16:38:50.912337Z",
     "iopub.status.busy": "2024-12-03T16:38:50.911907Z",
     "iopub.status.idle": "2024-12-03T16:38:56.966818Z",
     "shell.execute_reply": "2024-12-03T16:38:56.965579Z",
     "shell.execute_reply.started": "2024-12-03T16:38:50.912297Z"
    },
    "trusted": true
   },
   "outputs": [
    {
     "data": {
      "text/plain": [
       "'ramallah west bank reuters  palestinians switched off christmas lights at jesus  traditional birthplace in bethlehem on wednesday night in protest at us president donald trump s decision to recognize jerusalem as israel s capital a christmas tree adorned with lights outside bethlehem s church of the nativity where christians believe jesus was born and another in ramallah next to the burial site of former palestinian leader yasser arafat were plunged into darkness  the christmas tree was switched off on the order of the mayor today in protest at trump s decision  said fady ghattas bethlehem s municipal media officer  he said it was unclear whether the illuminations would be turned on again before the main christmas festivities in a speech in washington trump said he had decided to recognize jerusalem as israel s capital and move the us embassy to the city israeli prime minister benjamin netanyahu said trump s move  marked the beginning of a new approach to the israelipalestinian conflict and said it was an  historic landmark  arabs and muslims across the middle east condemned the us decision calling it an incendiary move in a volatile region and the european union and united nations also voiced alarm at the possible repercussions for any chances of reviving israelipalestinian peacemaking '"
      ]
     },
     "execution_count": 73,
     "metadata": {},
     "output_type": "execute_result"
    }
   ],
   "source": [
    "df.text = df.text.apply(remove_punct)"
   ]
  },
  {
   "cell_type": "markdown",
   "metadata": {},
   "source": [
    "### Tokenization"
   ]
  },
  {
   "cell_type": "code",
   "execution_count": null,
   "metadata": {
    "execution": {
     "iopub.execute_input": "2024-12-03T16:39:01.027789Z",
     "iopub.status.busy": "2024-12-03T16:39:01.026987Z",
     "iopub.status.idle": "2024-12-03T16:39:01.037182Z",
     "shell.execute_reply": "2024-12-03T16:39:01.035175Z",
     "shell.execute_reply.started": "2024-12-03T16:39:01.027734Z"
    },
    "trusted": true
   },
   "outputs": [
    {
     "data": {
      "text/plain": [
       "['hello', 'world']"
      ]
     },
     "execution_count": 74,
     "metadata": {},
     "output_type": "execute_result"
    }
   ],
   "source": [
    "import re\n",
    "\n",
    "def tokenize(text):\n",
    "  return re.split(\"\\W+\", text)\n",
    "\n",
    "tokenize(\"hello world\")"
   ]
  },
  {
   "cell_type": "code",
   "execution_count": null,
   "metadata": {
    "_kg_hide-output": true,
    "execution": {
     "iopub.execute_input": "2024-12-03T16:39:02.935818Z",
     "iopub.status.busy": "2024-12-03T16:39:02.935354Z",
     "iopub.status.idle": "2024-12-03T16:39:07.937034Z",
     "shell.execute_reply": "2024-12-03T16:39:07.935910Z",
     "shell.execute_reply.started": "2024-12-03T16:39:02.935780Z"
    },
    "trusted": true
   },
   "outputs": [],
   "source": [
    "df.text = df.text.apply(tokenize)"
   ]
  },
  {
   "cell_type": "markdown",
   "metadata": {},
   "source": [
    "### Stopwords"
   ]
  },
  {
   "cell_type": "code",
   "execution_count": null,
   "metadata": {
    "execution": {
     "iopub.execute_input": "2024-12-03T16:39:07.940246Z",
     "iopub.status.busy": "2024-12-03T16:39:07.939907Z",
     "iopub.status.idle": "2024-12-03T16:39:08.008569Z",
     "shell.execute_reply": "2024-12-03T16:39:08.007376Z",
     "shell.execute_reply.started": "2024-12-03T16:39:07.940216Z"
    },
    "trusted": true
   },
   "outputs": [
    {
     "name": "stdout",
     "output_type": "stream",
     "text": [
      "[nltk_data] Downloading package stopwords to /usr/share/nltk_data...\n",
      "[nltk_data]   Package stopwords is already up-to-date!\n",
      "[nltk_data] Downloading package wordnet to /usr/share/nltk_data...\n",
      "[nltk_data]   Package wordnet is already up-to-date!\n",
      "[nltk_data] Downloading package omw-1.4 to /usr/share/nltk_data...\n",
      "[nltk_data]   Package omw-1.4 is already up-to-date!\n"
     ]
    }
   ],
   "source": [
    "import nltk\n",
    "\n",
    "nltk.download('stopwords')\n",
    "nltk.download('wordnet')\n",
    "nltk.download('omw-1.4')\n",
    "\n",
    "stopwords = nltk.corpus.stopwords.words('english')"
   ]
  },
  {
   "cell_type": "code",
   "execution_count": null,
   "metadata": {
    "execution": {
     "iopub.execute_input": "2024-12-03T16:39:08.853354Z",
     "iopub.status.busy": "2024-12-03T16:39:08.852809Z",
     "iopub.status.idle": "2024-12-03T16:39:08.863467Z",
     "shell.execute_reply": "2024-12-03T16:39:08.861944Z",
     "shell.execute_reply.started": "2024-12-03T16:39:08.853297Z"
    },
    "trusted": true
   },
   "outputs": [
    {
     "name": "stdout",
     "output_type": "stream",
     "text": [
      "['hello', 'i', 'am', 'really', 'happy', 'that', 'you', 'will', 'go', 'with', 'me']\n",
      "['hello', 'really', 'happy', 'go']\n"
     ]
    }
   ],
   "source": [
    "def remove_stopwords(sentence):\n",
    "  return [word for word in sentence if word not in stopwords]\n",
    "\n",
    "example = \"Hello I am really happy that you will go with me\".lower().split(\" \")\n",
    "result = remove_stopwords(example)\n",
    "\n",
    "print(example)\n",
    "print(result)"
   ]
  },
  {
   "cell_type": "code",
   "execution_count": null,
   "metadata": {
    "execution": {
     "iopub.execute_input": "2024-12-03T16:39:12.284738Z",
     "iopub.status.busy": "2024-12-03T16:39:12.284313Z",
     "iopub.status.idle": "2024-12-03T16:39:31.936768Z",
     "shell.execute_reply": "2024-12-03T16:39:31.935519Z",
     "shell.execute_reply.started": "2024-12-03T16:39:12.284701Z"
    },
    "trusted": true
   },
   "outputs": [],
   "source": [
    "df.text = df.text.apply(remove_stopwords)"
   ]
  },
  {
   "cell_type": "markdown",
   "metadata": {},
   "source": [
    "### Stemming"
   ]
  },
  {
   "cell_type": "code",
   "execution_count": null,
   "metadata": {
    "execution": {
     "iopub.execute_input": "2024-12-03T11:45:33.561547Z",
     "iopub.status.busy": "2024-12-03T11:45:33.561108Z",
     "iopub.status.idle": "2024-12-03T11:45:33.573907Z",
     "shell.execute_reply": "2024-12-03T11:45:33.569908Z",
     "shell.execute_reply.started": "2024-12-03T11:45:33.561507Z"
    },
    "trusted": true
   },
   "outputs": [
    {
     "name": "stdout",
     "output_type": "stream",
     "text": [
      "grow\n",
      "grow\n",
      "grow\n"
     ]
    }
   ],
   "source": [
    "ps = nltk.PorterStemmer()\n",
    "\n",
    "print(ps.stem(\"grows\"))\n",
    "print(ps.stem(\"growing\"))\n",
    "print(ps.stem(\"grow\"))"
   ]
  },
  {
   "cell_type": "code",
   "execution_count": null,
   "metadata": {
    "execution": {
     "iopub.execute_input": "2024-12-03T11:45:33.577859Z",
     "iopub.status.busy": "2024-12-03T11:45:33.576509Z",
     "iopub.status.idle": "2024-12-03T11:45:33.594937Z",
     "shell.execute_reply": "2024-12-03T11:45:33.592785Z",
     "shell.execute_reply.started": "2024-12-03T11:45:33.577684Z"
    },
    "trusted": true
   },
   "outputs": [],
   "source": [
    "def stemm_word(tokenized_text):\n",
    "  return [ps.stem(word) for word in tokenized_text]\n",
    "\n",
    "df.text = df.text.apply(stemm_word)"
   ]
  },
  {
   "cell_type": "markdown",
   "metadata": {},
   "source": [
    "### Vectorization"
   ]
  },
  {
   "cell_type": "code",
   "execution_count": null,
   "metadata": {
    "execution": {
     "iopub.execute_input": "2024-12-03T11:47:34.336474Z",
     "iopub.status.busy": "2024-12-03T11:47:34.336022Z",
     "iopub.status.idle": "2024-12-03T11:47:57.726366Z",
     "shell.execute_reply": "2024-12-03T11:47:57.724969Z",
     "shell.execute_reply.started": "2024-12-03T11:47:34.336433Z"
    },
    "trusted": true
   },
   "outputs": [
    {
     "data": {
      "text/html": [
       "<div>\n",
       "<style scoped>\n",
       "    .dataframe tbody tr th:only-of-type {\n",
       "        vertical-align: middle;\n",
       "    }\n",
       "\n",
       "    .dataframe tbody tr th {\n",
       "        vertical-align: top;\n",
       "    }\n",
       "\n",
       "    .dataframe thead th {\n",
       "        text-align: right;\n",
       "    }\n",
       "</style>\n",
       "<table border=\"1\" class=\"dataframe\">\n",
       "  <thead>\n",
       "    <tr style=\"text-align: right;\">\n",
       "      <th></th>\n",
       "      <th>00</th>\n",
       "      <th>000</th>\n",
       "      <th>0000</th>\n",
       "      <th>000000017</th>\n",
       "      <th>000004</th>\n",
       "      <th>000048</th>\n",
       "      <th>000063sz</th>\n",
       "      <th>00007</th>\n",
       "      <th>00009</th>\n",
       "      <th>0001</th>\n",
       "      <th>...</th>\n",
       "      <th>überraschend</th>\n",
       "      <th>überrascht</th>\n",
       "      <th>überreden</th>\n",
       "      <th>überreicht</th>\n",
       "      <th>überschwänglich</th>\n",
       "      <th>übertrieben</th>\n",
       "      <th>überwacht</th>\n",
       "      <th>überwachungskamera</th>\n",
       "      <th>übrig</th>\n",
       "      <th>übte</th>\n",
       "    </tr>\n",
       "  </thead>\n",
       "  <tbody>\n",
       "    <tr>\n",
       "      <th>0</th>\n",
       "      <td>0.0</td>\n",
       "      <td>0.0</td>\n",
       "      <td>0.0</td>\n",
       "      <td>0.0</td>\n",
       "      <td>0.0</td>\n",
       "      <td>0.0</td>\n",
       "      <td>0.0</td>\n",
       "      <td>0.0</td>\n",
       "      <td>0.0</td>\n",
       "      <td>0.0</td>\n",
       "      <td>...</td>\n",
       "      <td>0.0</td>\n",
       "      <td>0.0</td>\n",
       "      <td>0.0</td>\n",
       "      <td>0.0</td>\n",
       "      <td>0.0</td>\n",
       "      <td>0.0</td>\n",
       "      <td>0.0</td>\n",
       "      <td>0.0</td>\n",
       "      <td>0.0</td>\n",
       "      <td>0.0</td>\n",
       "    </tr>\n",
       "    <tr>\n",
       "      <th>1</th>\n",
       "      <td>0.0</td>\n",
       "      <td>0.0</td>\n",
       "      <td>0.0</td>\n",
       "      <td>0.0</td>\n",
       "      <td>0.0</td>\n",
       "      <td>0.0</td>\n",
       "      <td>0.0</td>\n",
       "      <td>0.0</td>\n",
       "      <td>0.0</td>\n",
       "      <td>0.0</td>\n",
       "      <td>...</td>\n",
       "      <td>0.0</td>\n",
       "      <td>0.0</td>\n",
       "      <td>0.0</td>\n",
       "      <td>0.0</td>\n",
       "      <td>0.0</td>\n",
       "      <td>0.0</td>\n",
       "      <td>0.0</td>\n",
       "      <td>0.0</td>\n",
       "      <td>0.0</td>\n",
       "      <td>0.0</td>\n",
       "    </tr>\n",
       "    <tr>\n",
       "      <th>2</th>\n",
       "      <td>0.0</td>\n",
       "      <td>0.0</td>\n",
       "      <td>0.0</td>\n",
       "      <td>0.0</td>\n",
       "      <td>0.0</td>\n",
       "      <td>0.0</td>\n",
       "      <td>0.0</td>\n",
       "      <td>0.0</td>\n",
       "      <td>0.0</td>\n",
       "      <td>0.0</td>\n",
       "      <td>...</td>\n",
       "      <td>0.0</td>\n",
       "      <td>0.0</td>\n",
       "      <td>0.0</td>\n",
       "      <td>0.0</td>\n",
       "      <td>0.0</td>\n",
       "      <td>0.0</td>\n",
       "      <td>0.0</td>\n",
       "      <td>0.0</td>\n",
       "      <td>0.0</td>\n",
       "      <td>0.0</td>\n",
       "    </tr>\n",
       "    <tr>\n",
       "      <th>3</th>\n",
       "      <td>0.0</td>\n",
       "      <td>0.0</td>\n",
       "      <td>0.0</td>\n",
       "      <td>0.0</td>\n",
       "      <td>0.0</td>\n",
       "      <td>0.0</td>\n",
       "      <td>0.0</td>\n",
       "      <td>0.0</td>\n",
       "      <td>0.0</td>\n",
       "      <td>0.0</td>\n",
       "      <td>...</td>\n",
       "      <td>0.0</td>\n",
       "      <td>0.0</td>\n",
       "      <td>0.0</td>\n",
       "      <td>0.0</td>\n",
       "      <td>0.0</td>\n",
       "      <td>0.0</td>\n",
       "      <td>0.0</td>\n",
       "      <td>0.0</td>\n",
       "      <td>0.0</td>\n",
       "      <td>0.0</td>\n",
       "    </tr>\n",
       "    <tr>\n",
       "      <th>4</th>\n",
       "      <td>0.0</td>\n",
       "      <td>0.0</td>\n",
       "      <td>0.0</td>\n",
       "      <td>0.0</td>\n",
       "      <td>0.0</td>\n",
       "      <td>0.0</td>\n",
       "      <td>0.0</td>\n",
       "      <td>0.0</td>\n",
       "      <td>0.0</td>\n",
       "      <td>0.0</td>\n",
       "      <td>...</td>\n",
       "      <td>0.0</td>\n",
       "      <td>0.0</td>\n",
       "      <td>0.0</td>\n",
       "      <td>0.0</td>\n",
       "      <td>0.0</td>\n",
       "      <td>0.0</td>\n",
       "      <td>0.0</td>\n",
       "      <td>0.0</td>\n",
       "      <td>0.0</td>\n",
       "      <td>0.0</td>\n",
       "    </tr>\n",
       "    <tr>\n",
       "      <th>...</th>\n",
       "      <td>...</td>\n",
       "      <td>...</td>\n",
       "      <td>...</td>\n",
       "      <td>...</td>\n",
       "      <td>...</td>\n",
       "      <td>...</td>\n",
       "      <td>...</td>\n",
       "      <td>...</td>\n",
       "      <td>...</td>\n",
       "      <td>...</td>\n",
       "      <td>...</td>\n",
       "      <td>...</td>\n",
       "      <td>...</td>\n",
       "      <td>...</td>\n",
       "      <td>...</td>\n",
       "      <td>...</td>\n",
       "      <td>...</td>\n",
       "      <td>...</td>\n",
       "      <td>...</td>\n",
       "      <td>...</td>\n",
       "      <td>...</td>\n",
       "    </tr>\n",
       "    <tr>\n",
       "      <th>24347</th>\n",
       "      <td>0.0</td>\n",
       "      <td>0.0</td>\n",
       "      <td>0.0</td>\n",
       "      <td>0.0</td>\n",
       "      <td>0.0</td>\n",
       "      <td>0.0</td>\n",
       "      <td>0.0</td>\n",
       "      <td>0.0</td>\n",
       "      <td>0.0</td>\n",
       "      <td>0.0</td>\n",
       "      <td>...</td>\n",
       "      <td>0.0</td>\n",
       "      <td>0.0</td>\n",
       "      <td>0.0</td>\n",
       "      <td>0.0</td>\n",
       "      <td>0.0</td>\n",
       "      <td>0.0</td>\n",
       "      <td>0.0</td>\n",
       "      <td>0.0</td>\n",
       "      <td>0.0</td>\n",
       "      <td>0.0</td>\n",
       "    </tr>\n",
       "    <tr>\n",
       "      <th>24348</th>\n",
       "      <td>0.0</td>\n",
       "      <td>0.0</td>\n",
       "      <td>0.0</td>\n",
       "      <td>0.0</td>\n",
       "      <td>0.0</td>\n",
       "      <td>0.0</td>\n",
       "      <td>0.0</td>\n",
       "      <td>0.0</td>\n",
       "      <td>0.0</td>\n",
       "      <td>0.0</td>\n",
       "      <td>...</td>\n",
       "      <td>0.0</td>\n",
       "      <td>0.0</td>\n",
       "      <td>0.0</td>\n",
       "      <td>0.0</td>\n",
       "      <td>0.0</td>\n",
       "      <td>0.0</td>\n",
       "      <td>0.0</td>\n",
       "      <td>0.0</td>\n",
       "      <td>0.0</td>\n",
       "      <td>0.0</td>\n",
       "    </tr>\n",
       "    <tr>\n",
       "      <th>24349</th>\n",
       "      <td>0.0</td>\n",
       "      <td>0.0</td>\n",
       "      <td>0.0</td>\n",
       "      <td>0.0</td>\n",
       "      <td>0.0</td>\n",
       "      <td>0.0</td>\n",
       "      <td>0.0</td>\n",
       "      <td>0.0</td>\n",
       "      <td>0.0</td>\n",
       "      <td>0.0</td>\n",
       "      <td>...</td>\n",
       "      <td>0.0</td>\n",
       "      <td>0.0</td>\n",
       "      <td>0.0</td>\n",
       "      <td>0.0</td>\n",
       "      <td>0.0</td>\n",
       "      <td>0.0</td>\n",
       "      <td>0.0</td>\n",
       "      <td>0.0</td>\n",
       "      <td>0.0</td>\n",
       "      <td>0.0</td>\n",
       "    </tr>\n",
       "    <tr>\n",
       "      <th>24350</th>\n",
       "      <td>0.0</td>\n",
       "      <td>0.0</td>\n",
       "      <td>0.0</td>\n",
       "      <td>0.0</td>\n",
       "      <td>0.0</td>\n",
       "      <td>0.0</td>\n",
       "      <td>0.0</td>\n",
       "      <td>0.0</td>\n",
       "      <td>0.0</td>\n",
       "      <td>0.0</td>\n",
       "      <td>...</td>\n",
       "      <td>0.0</td>\n",
       "      <td>0.0</td>\n",
       "      <td>0.0</td>\n",
       "      <td>0.0</td>\n",
       "      <td>0.0</td>\n",
       "      <td>0.0</td>\n",
       "      <td>0.0</td>\n",
       "      <td>0.0</td>\n",
       "      <td>0.0</td>\n",
       "      <td>0.0</td>\n",
       "    </tr>\n",
       "    <tr>\n",
       "      <th>24351</th>\n",
       "      <td>0.0</td>\n",
       "      <td>0.0</td>\n",
       "      <td>0.0</td>\n",
       "      <td>0.0</td>\n",
       "      <td>0.0</td>\n",
       "      <td>0.0</td>\n",
       "      <td>0.0</td>\n",
       "      <td>0.0</td>\n",
       "      <td>0.0</td>\n",
       "      <td>0.0</td>\n",
       "      <td>...</td>\n",
       "      <td>0.0</td>\n",
       "      <td>0.0</td>\n",
       "      <td>0.0</td>\n",
       "      <td>0.0</td>\n",
       "      <td>0.0</td>\n",
       "      <td>0.0</td>\n",
       "      <td>0.0</td>\n",
       "      <td>0.0</td>\n",
       "      <td>0.0</td>\n",
       "      <td>0.0</td>\n",
       "    </tr>\n",
       "  </tbody>\n",
       "</table>\n",
       "<p>24352 rows × 149439 columns</p>\n",
       "</div>"
      ],
      "text/plain": [
       "        00  000  0000  000000017  000004  000048  000063sz  00007  00009  \\\n",
       "0      0.0  0.0   0.0        0.0     0.0     0.0       0.0    0.0    0.0   \n",
       "1      0.0  0.0   0.0        0.0     0.0     0.0       0.0    0.0    0.0   \n",
       "2      0.0  0.0   0.0        0.0     0.0     0.0       0.0    0.0    0.0   \n",
       "3      0.0  0.0   0.0        0.0     0.0     0.0       0.0    0.0    0.0   \n",
       "4      0.0  0.0   0.0        0.0     0.0     0.0       0.0    0.0    0.0   \n",
       "...    ...  ...   ...        ...     ...     ...       ...    ...    ...   \n",
       "24347  0.0  0.0   0.0        0.0     0.0     0.0       0.0    0.0    0.0   \n",
       "24348  0.0  0.0   0.0        0.0     0.0     0.0       0.0    0.0    0.0   \n",
       "24349  0.0  0.0   0.0        0.0     0.0     0.0       0.0    0.0    0.0   \n",
       "24350  0.0  0.0   0.0        0.0     0.0     0.0       0.0    0.0    0.0   \n",
       "24351  0.0  0.0   0.0        0.0     0.0     0.0       0.0    0.0    0.0   \n",
       "\n",
       "       0001  ...  überraschend  überrascht  überreden  überreicht  \\\n",
       "0       0.0  ...           0.0         0.0        0.0         0.0   \n",
       "1       0.0  ...           0.0         0.0        0.0         0.0   \n",
       "2       0.0  ...           0.0         0.0        0.0         0.0   \n",
       "3       0.0  ...           0.0         0.0        0.0         0.0   \n",
       "4       0.0  ...           0.0         0.0        0.0         0.0   \n",
       "...     ...  ...           ...         ...        ...         ...   \n",
       "24347   0.0  ...           0.0         0.0        0.0         0.0   \n",
       "24348   0.0  ...           0.0         0.0        0.0         0.0   \n",
       "24349   0.0  ...           0.0         0.0        0.0         0.0   \n",
       "24350   0.0  ...           0.0         0.0        0.0         0.0   \n",
       "24351   0.0  ...           0.0         0.0        0.0         0.0   \n",
       "\n",
       "       überschwänglich  übertrieben  überwacht  überwachungskamera  übrig  \\\n",
       "0                  0.0          0.0        0.0                 0.0    0.0   \n",
       "1                  0.0          0.0        0.0                 0.0    0.0   \n",
       "2                  0.0          0.0        0.0                 0.0    0.0   \n",
       "3                  0.0          0.0        0.0                 0.0    0.0   \n",
       "4                  0.0          0.0        0.0                 0.0    0.0   \n",
       "...                ...          ...        ...                 ...    ...   \n",
       "24347              0.0          0.0        0.0                 0.0    0.0   \n",
       "24348              0.0          0.0        0.0                 0.0    0.0   \n",
       "24349              0.0          0.0        0.0                 0.0    0.0   \n",
       "24350              0.0          0.0        0.0                 0.0    0.0   \n",
       "24351              0.0          0.0        0.0                 0.0    0.0   \n",
       "\n",
       "       übte  \n",
       "0       0.0  \n",
       "1       0.0  \n",
       "2       0.0  \n",
       "3       0.0  \n",
       "4       0.0  \n",
       "...     ...  \n",
       "24347   0.0  \n",
       "24348   0.0  \n",
       "24349   0.0  \n",
       "24350   0.0  \n",
       "24351   0.0  \n",
       "\n",
       "[24352 rows x 149439 columns]"
      ]
     },
     "execution_count": 28,
     "metadata": {},
     "output_type": "execute_result"
    }
   ],
   "source": [
    "from sklearn.feature_extraction.text import TfidfVectorizer\n",
    "\n",
    "df.text = df.text.apply(lambda x: \" \".join(x))\n",
    "\n",
    "vectorizer = TfidfVectorizer()\n",
    "\n",
    "tfidf_matrix = vectorizer.fit_transform(df.text)\n",
    "\n",
    "tfidf_df = pd.DataFrame(tfidf_matrix.toarray(), columns=vectorizer.get_feature_names_out())\n",
    "tfidf_df"
   ]
  },
  {
   "cell_type": "markdown",
   "metadata": {},
   "source": [
    "### Final Preprocessing Pipeline"
   ]
  },
  {
   "cell_type": "code",
   "execution_count": null,
   "metadata": {
    "execution": {
     "iopub.execute_input": "2024-12-03T15:44:55.928827Z",
     "iopub.status.busy": "2024-12-03T15:44:55.927667Z",
     "iopub.status.idle": "2024-12-03T15:44:57.638801Z",
     "shell.execute_reply": "2024-12-03T15:44:57.637147Z",
     "shell.execute_reply.started": "2024-12-03T15:44:55.928779Z"
    },
    "trusted": true
   },
   "outputs": [
    {
     "name": "stdout",
     "output_type": "stream",
     "text": [
      "[nltk_data] Downloading package stopwords to /usr/share/nltk_data...\n",
      "[nltk_data]   Package stopwords is already up-to-date!\n",
      "[nltk_data] Downloading package wordnet to /usr/share/nltk_data...\n",
      "[nltk_data]   Package wordnet is already up-to-date!\n",
      "[nltk_data] Downloading package omw-1.4 to /usr/share/nltk_data...\n"
     ]
    }
   ],
   "source": [
    "import nltk\n",
    "import re\n",
    "import string\n",
    "\n",
    "nltk.download('stopwords')\n",
    "nltk.download('wordnet')\n",
    "nltk.download('omw-1.4')\n",
    "\n",
    "stopwords = nltk.corpus.stopwords.words('english')\n",
    "\n",
    "def to_lower(text):\n",
    "  return text.lower()\n",
    "\n",
    "def remove_punct(text):\n",
    "  return \"\".join([symbol for symbol in text if symbol not in string.punctuation])\n",
    "\n",
    "def tokenize(text):\n",
    "  return re.split(\"\\W+\", text)\n",
    "\n",
    "def remove_stopwords(sentence):\n",
    "  return [word for word in sentence if word not in stopwords]\n",
    "\n",
    "def stemm_word(tokenized_text):\n",
    "    ps = nltk.PorterStemmer()\n",
    "    return [ps.stem(word) for word in tokenized_text]\n",
    "\n",
    "def preprocess(series):\n",
    "    series = (\n",
    "        series\n",
    "            .apply(to_lower)\n",
    "            .apply(remove_punct)\n",
    "            .apply(tokenize)\n",
    "            .apply(remove_stopwords)\n",
    "            .apply(stemm_word)\n",
    "    )\n",
    "    return series"
   ]
  },
  {
   "cell_type": "code",
   "execution_count": 5,
   "metadata": {
    "trusted": true
   },
   "outputs": [
    {
     "data": {
      "text/html": [
       "<div>\n",
       "<style scoped>\n",
       "    .dataframe tbody tr th:only-of-type {\n",
       "        vertical-align: middle;\n",
       "    }\n",
       "\n",
       "    .dataframe tbody tr th {\n",
       "        vertical-align: top;\n",
       "    }\n",
       "\n",
       "    .dataframe thead th {\n",
       "        text-align: right;\n",
       "    }\n",
       "</style>\n",
       "<table border=\"1\" class=\"dataframe\">\n",
       "  <thead>\n",
       "    <tr style=\"text-align: right;\">\n",
       "      <th></th>\n",
       "      <th>Unnamed: 0</th>\n",
       "      <th>title</th>\n",
       "      <th>text</th>\n",
       "      <th>label</th>\n",
       "    </tr>\n",
       "  </thead>\n",
       "  <tbody>\n",
       "    <tr>\n",
       "      <th>0</th>\n",
       "      <td>0</td>\n",
       "      <td>Live from New York, it's a Trump-Clinton remat...</td>\n",
       "      <td>NEW YORK (Reuters) - Veteran actor and frequen...</td>\n",
       "      <td>1</td>\n",
       "    </tr>\n",
       "    <tr>\n",
       "      <th>1</th>\n",
       "      <td>1</td>\n",
       "      <td>Catalan separatists to lose majority in tight ...</td>\n",
       "      <td>BARCELONA (Reuters) - Catalonia s independence...</td>\n",
       "      <td>1</td>\n",
       "    </tr>\n",
       "    <tr>\n",
       "      <th>2</th>\n",
       "      <td>2</td>\n",
       "      <td>North Carolina governor concedes election to D...</td>\n",
       "      <td>WINSTON-SALEM, N.C. (Reuters) - North Carolina...</td>\n",
       "      <td>1</td>\n",
       "    </tr>\n",
       "    <tr>\n",
       "      <th>3</th>\n",
       "      <td>3</td>\n",
       "      <td>Draft Senate Iran legislation sets tough new U...</td>\n",
       "      <td>WASHINGTON (Reuters) - Draft legislation respo...</td>\n",
       "      <td>1</td>\n",
       "    </tr>\n",
       "    <tr>\n",
       "      <th>4</th>\n",
       "      <td>4</td>\n",
       "      <td>California governor taps U.S. Representative B...</td>\n",
       "      <td>SACRAMENTO, Calif. (Reuters) - California Gove...</td>\n",
       "      <td>1</td>\n",
       "    </tr>\n",
       "    <tr>\n",
       "      <th>...</th>\n",
       "      <td>...</td>\n",
       "      <td>...</td>\n",
       "      <td>...</td>\n",
       "      <td>...</td>\n",
       "    </tr>\n",
       "    <tr>\n",
       "      <th>8112</th>\n",
       "      <td>8112</td>\n",
       "      <td>Sanders at Vatican says rich-poor gap worse th...</td>\n",
       "      <td>VATICAN CITY (Reuters) - U.S. presidential can...</td>\n",
       "      <td>1</td>\n",
       "    </tr>\n",
       "    <tr>\n",
       "      <th>8113</th>\n",
       "      <td>8113</td>\n",
       "      <td>how trump happened</td>\n",
       "      <td>force and fanaticism  wahhabism in saudi arabi...</td>\n",
       "      <td>1</td>\n",
       "    </tr>\n",
       "    <tr>\n",
       "      <th>8114</th>\n",
       "      <td>8114</td>\n",
       "      <td>Turkey will take two steps if Germany takes on...</td>\n",
       "      <td>ISTANBUL (Reuters) - Turkey, whose relations w...</td>\n",
       "      <td>1</td>\n",
       "    </tr>\n",
       "    <tr>\n",
       "      <th>8115</th>\n",
       "      <td>8115</td>\n",
       "      <td>BREAKING: DEVICE THAT BUSTED HILLARY CLINTON D...</td>\n",
       "      <td>Here s why Clinton and Abedin should be flippi...</td>\n",
       "      <td>0</td>\n",
       "    </tr>\n",
       "    <tr>\n",
       "      <th>8116</th>\n",
       "      <td>8116</td>\n",
       "      <td>occupier david fry released from jail im reall...</td>\n",
       "      <td>one twitter user once asked me is it too much ...</td>\n",
       "      <td>0</td>\n",
       "    </tr>\n",
       "  </tbody>\n",
       "</table>\n",
       "<p>8117 rows × 4 columns</p>\n",
       "</div>"
      ],
      "text/plain": [
       "      Unnamed: 0                                              title  \\\n",
       "0              0  Live from New York, it's a Trump-Clinton remat...   \n",
       "1              1  Catalan separatists to lose majority in tight ...   \n",
       "2              2  North Carolina governor concedes election to D...   \n",
       "3              3  Draft Senate Iran legislation sets tough new U...   \n",
       "4              4  California governor taps U.S. Representative B...   \n",
       "...          ...                                                ...   \n",
       "8112        8112  Sanders at Vatican says rich-poor gap worse th...   \n",
       "8113        8113                                 how trump happened   \n",
       "8114        8114  Turkey will take two steps if Germany takes on...   \n",
       "8115        8115  BREAKING: DEVICE THAT BUSTED HILLARY CLINTON D...   \n",
       "8116        8116  occupier david fry released from jail im reall...   \n",
       "\n",
       "                                                   text  label  \n",
       "0     NEW YORK (Reuters) - Veteran actor and frequen...      1  \n",
       "1     BARCELONA (Reuters) - Catalonia s independence...      1  \n",
       "2     WINSTON-SALEM, N.C. (Reuters) - North Carolina...      1  \n",
       "3     WASHINGTON (Reuters) - Draft legislation respo...      1  \n",
       "4     SACRAMENTO, Calif. (Reuters) - California Gove...      1  \n",
       "...                                                 ...    ...  \n",
       "8112  VATICAN CITY (Reuters) - U.S. presidential can...      1  \n",
       "8113  force and fanaticism  wahhabism in saudi arabi...      1  \n",
       "8114  ISTANBUL (Reuters) - Turkey, whose relations w...      1  \n",
       "8115  Here s why Clinton and Abedin should be flippi...      0  \n",
       "8116  one twitter user once asked me is it too much ...      0  \n",
       "\n",
       "[8117 rows x 4 columns]"
      ]
     },
     "execution_count": 5,
     "metadata": {},
     "output_type": "execute_result"
    }
   ],
   "source": [
    "df = pd.read_csv(r\"Dataset\\test.csv\", sep=\";\")\n",
    "df"
   ]
  },
  {
   "cell_type": "code",
   "execution_count": null,
   "metadata": {
    "execution": {
     "iopub.execute_input": "2024-12-03T12:57:18.757534Z",
     "iopub.status.busy": "2024-12-03T12:57:18.757180Z",
     "iopub.status.idle": "2024-12-03T12:58:07.363960Z",
     "shell.execute_reply": "2024-12-03T12:58:07.362780Z",
     "shell.execute_reply.started": "2024-12-03T12:57:18.757503Z"
    },
    "trusted": true
   },
   "outputs": [
    {
     "data": {
      "text/plain": [
       "0       [new, york, reuter, veteran, actor, frequent, ...\n",
       "1       [barcelona, reuter, catalonia, independ, movem...\n",
       "2       [winstonsalem, nc, reuter, north, carolina, go...\n",
       "3       [washington, reuter, draft, legisl, respond, u...\n",
       "4       [sacramento, calif, reuter, california, govern...\n",
       "                              ...                        \n",
       "8112    [vatican, citi, reuter, us, presidenti, candid...\n",
       "8113    [forc, fanatic, wahhab, saudi, arabia, beyond,...\n",
       "8114    [istanbul, reuter, turkey, whose, relat, germa...\n",
       "8115    [clinton, abedin, flip, multipl, state, employ...\n",
       "8116    [one, twitter, user, ask, much, hope, one, par...\n",
       "Name: text, Length: 8117, dtype: object"
      ]
     },
     "execution_count": 24,
     "metadata": {},
     "output_type": "execute_result"
    }
   ],
   "source": [
    "df_test = preprocess(df['text'])\n",
    "df_test"
   ]
  },
  {
   "cell_type": "markdown",
   "metadata": {},
   "source": [
    "# # Data Splitting (Train, Test, Validation)"
   ]
  },
  {
   "cell_type": "code",
   "execution_count": null,
   "metadata": {},
   "outputs": [
    {
     "name": "stdout",
     "output_type": "stream",
     "text": [
      "['train.csv', 'validation.csv', 'test.csv']\n"
     ]
    }
   ],
   "source": [
    "import os\n",
    "import pandas as pd\n",
    "os.listdir('Dataset')"
   ]
  },
  {
   "cell_type": "code",
   "execution_count": null,
   "metadata": {
    "execution": {
     "iopub.execute_input": "2024-12-03T15:44:36.953247Z",
     "iopub.status.busy": "2024-12-03T15:44:36.952692Z",
     "iopub.status.idle": "2024-12-03T15:44:36.960162Z",
     "shell.execute_reply": "2024-12-03T15:44:36.958893Z",
     "shell.execute_reply.started": "2024-12-03T15:44:36.953209Z"
    },
    "trusted": true
   },
   "outputs": [],
   "source": [
    "BASE_DIR = 'Dataset'\n",
    "\n",
    "train_path = os.path.join(BASE_DIR, \"train.csv\")\n",
    "val_path = os.path.join(BASE_DIR, \"validation.csv\")\n",
    "test_path = os.path.join(BASE_DIR, \"test.csv\")"
   ]
  },
  {
   "cell_type": "code",
   "execution_count": null,
   "metadata": {
    "execution": {
     "iopub.execute_input": "2024-12-03T15:44:38.592944Z",
     "iopub.status.busy": "2024-12-03T15:44:38.592547Z",
     "iopub.status.idle": "2024-12-03T15:44:41.526781Z",
     "shell.execute_reply": "2024-12-03T15:44:41.525450Z",
     "shell.execute_reply.started": "2024-12-03T15:44:38.592911Z"
    },
    "trusted": true
   },
   "outputs": [],
   "source": [
    "train_df = pd.read_csv(train_path, sep=\";\")\n",
    "val_df = pd.read_csv(val_path, sep=\";\")\n",
    "test_df = pd.read_csv(test_path, sep=\";\")"
   ]
  },
  {
   "cell_type": "code",
   "execution_count": null,
   "metadata": {
    "execution": {
     "iopub.execute_input": "2024-12-03T15:44:44.785034Z",
     "iopub.status.busy": "2024-12-03T15:44:44.784587Z",
     "iopub.status.idle": "2024-12-03T15:44:44.800952Z",
     "shell.execute_reply": "2024-12-03T15:44:44.799671Z",
     "shell.execute_reply.started": "2024-12-03T15:44:44.784992Z"
    },
    "trusted": true
   },
   "outputs": [],
   "source": [
    "train_df = train_df[['text', 'label']]\n",
    "val_df = val_df[['text', 'label']]\n",
    "test_df = test_df[['text', 'label']]"
   ]
  },
  {
   "cell_type": "code",
   "execution_count": null,
   "metadata": {
    "execution": {
     "iopub.execute_input": "2024-12-03T15:44:46.814926Z",
     "iopub.status.busy": "2024-12-03T15:44:46.814499Z",
     "iopub.status.idle": "2024-12-03T15:44:46.934662Z",
     "shell.execute_reply": "2024-12-03T15:44:46.933496Z",
     "shell.execute_reply.started": "2024-12-03T15:44:46.814890Z"
    },
    "trusted": true
   },
   "outputs": [],
   "source": [
    "train_df.drop_duplicates(subset=['text'], inplace=True)\n",
    "val_df.drop_duplicates(subset=['text'], inplace=True)\n",
    "test_df.drop_duplicates(subset=['text'], inplace=True)"
   ]
  },
  {
   "cell_type": "code",
   "execution_count": null,
   "metadata": {
    "execution": {
     "iopub.execute_input": "2024-12-03T15:44:48.333322Z",
     "iopub.status.busy": "2024-12-03T15:44:48.332955Z",
     "iopub.status.idle": "2024-12-03T15:44:48.347763Z",
     "shell.execute_reply": "2024-12-03T15:44:48.346106Z",
     "shell.execute_reply.started": "2024-12-03T15:44:48.333291Z"
    },
    "trusted": true
   },
   "outputs": [],
   "source": [
    "assert train_df.notna().size == train_df.size\n",
    "assert val_df.notna().size == val_df.size\n",
    "assert test_df.notna().size == test_df.size"
   ]
  },
  {
   "cell_type": "code",
   "execution_count": null,
   "metadata": {
    "execution": {
     "iopub.execute_input": "2024-12-03T15:45:00.023814Z",
     "iopub.status.busy": "2024-12-03T15:45:00.023200Z",
     "iopub.status.idle": "2024-12-03T15:47:29.856639Z",
     "shell.execute_reply": "2024-12-03T15:47:29.855556Z",
     "shell.execute_reply.started": "2024-12-03T15:45:00.023771Z"
    },
    "trusted": true
   },
   "outputs": [],
   "source": [
    "train_df.text = preprocess(train_df.text)\n",
    "test_df.text = preprocess(test_df.text)\n",
    "val_df.text = preprocess(val_df.text)"
   ]
  },
  {
   "cell_type": "code",
   "execution_count": null,
   "metadata": {
    "execution": {
     "iopub.execute_input": "2024-12-03T15:52:45.135855Z",
     "iopub.status.busy": "2024-12-03T15:52:45.134716Z",
     "iopub.status.idle": "2024-12-03T15:52:45.388575Z",
     "shell.execute_reply": "2024-12-03T15:52:45.387514Z",
     "shell.execute_reply.started": "2024-12-03T15:52:45.135786Z"
    },
    "trusted": true
   },
   "outputs": [],
   "source": [
    "train_df.text = train_df.text.apply(lambda x: \" \".join(x))\n",
    "test_df.text = test_df.text.apply(lambda x: \" \".join(x))\n",
    "val_df.text = val_df.text.apply(lambda x: \" \".join(x))"
   ]
  },
  {
   "cell_type": "code",
   "execution_count": null,
   "metadata": {
    "execution": {
     "iopub.execute_input": "2024-12-03T15:53:06.566829Z",
     "iopub.status.busy": "2024-12-03T15:53:06.565623Z",
     "iopub.status.idle": "2024-12-03T15:53:15.353746Z",
     "shell.execute_reply": "2024-12-03T15:53:15.352509Z",
     "shell.execute_reply.started": "2024-12-03T15:53:06.566772Z"
    },
    "trusted": true
   },
   "outputs": [
    {
     "name": "stdout",
     "output_type": "stream",
     "text": [
      "(24352, 149439)\n",
      "(8117, 149439)\n",
      "(8117, 149439)\n"
     ]
    }
   ],
   "source": [
    "from sklearn.feature_extraction.text import TfidfVectorizer\n",
    "\n",
    "vectorizer = TfidfVectorizer()\n",
    "\n",
    "X_train_tfidf = vectorizer.fit_transform(train_df.text.to_list())\n",
    "X_val_tfidf = vectorizer.transform(val_df.text.to_list())\n",
    "X_test_tfidf = vectorizer.transform(test_df.text.to_list())\n",
    "\n",
    "y_train = train_df.label\n",
    "y_val = val_df.label\n",
    "y_test = test_df.label\n",
    "\n",
    "print(X_train_tfidf.shape)\n",
    "print(X_val_tfidf.shape)\n",
    "print(X_test_tfidf.shape)\n",
    "\n",
    "vectorizer.get_feature_names_out()"
   ]
  },
  {
   "cell_type": "markdown",
   "metadata": {},
   "source": [
    "# # Model Building"
   ]
  },
  {
   "cell_type": "markdown",
   "metadata": {},
   "source": [
    "### Logistic Regression"
   ]
  },
  {
   "cell_type": "code",
   "execution_count": null,
   "metadata": {
    "execution": {
     "iopub.execute_input": "2024-12-03T15:53:25.934885Z",
     "iopub.status.busy": "2024-12-03T15:53:25.934442Z",
     "iopub.status.idle": "2024-12-03T15:53:29.182124Z",
     "shell.execute_reply": "2024-12-03T15:53:29.178622Z",
     "shell.execute_reply.started": "2024-12-03T15:53:25.934847Z"
    },
    "trusted": true
   },
   "outputs": [
    {
     "name": "stdout",
     "output_type": "stream",
     "text": [
      "Classification Report:\n",
      "              precision    recall  f1-score   support\n",
      "\n",
      "           0       0.97      0.97      0.97      3753\n",
      "           1       0.97      0.97      0.97      4364\n",
      "\n",
      "    accuracy                           0.97      8117\n",
      "   macro avg       0.97      0.97      0.97      8117\n",
      "weighted avg       0.97      0.97      0.97      8117\n",
      "\n"
     ]
    }
   ],
   "source": [
    "from sklearn.linear_model import LogisticRegression\n",
    "from sklearn.metrics import classification_report\n",
    "\n",
    "# Model initialization\n",
    "model = LogisticRegression()\n",
    "\n",
    "# model training\n",
    "model.fit(X_train_tfidf, y_train)\n",
    "\n",
    "# Model Evaluation for test data\n",
    "y_pred = model.predict(X_test_tfidf)\n",
    "print(\"Classification Report:\")\n",
    "print(classification_report(y_test, y_pred))"
   ]
  },
  {
   "cell_type": "code",
   "execution_count": null,
   "metadata": {
    "execution": {
     "iopub.execute_input": "2024-12-03T15:54:27.459665Z",
     "iopub.status.busy": "2024-12-03T15:54:27.459162Z",
     "iopub.status.idle": "2024-12-03T15:54:27.495224Z",
     "shell.execute_reply": "2024-12-03T15:54:27.493966Z",
     "shell.execute_reply.started": "2024-12-03T15:54:27.459628Z"
    },
    "trusted": true
   },
   "outputs": [
    {
     "name": "stdout",
     "output_type": "stream",
     "text": [
      "Classification Report:\n",
      "              precision    recall  f1-score   support\n",
      "\n",
      "           0       0.96      0.96      0.96      3803\n",
      "           1       0.97      0.97      0.97      4314\n",
      "\n",
      "    accuracy                           0.96      8117\n",
      "   macro avg       0.96      0.96      0.96      8117\n",
      "weighted avg       0.96      0.96      0.96      8117\n",
      "\n"
     ]
    }
   ],
   "source": [
    "# Model Evaluation for validation data\n",
    "y_pred = model.predict(X_val_tfidf)\n",
    "print(\"Classification Report:\")\n",
    "print(classification_report(y_val, y_pred))"
   ]
  },
  {
   "cell_type": "code",
   "execution_count": null,
   "metadata": {
    "execution": {
     "iopub.execute_input": "2024-12-03T15:58:03.831482Z",
     "iopub.status.busy": "2024-12-03T15:58:03.830478Z",
     "iopub.status.idle": "2024-12-03T15:58:04.353027Z",
     "shell.execute_reply": "2024-12-03T15:58:04.351847Z",
     "shell.execute_reply.started": "2024-12-03T15:58:03.831436Z"
    },
    "trusted": true
   },
   "outputs": [
    {
     "data": {
      "image/png": "[encoded data removed]",
      "text/plain": [
       "<Figure size 800x600 with 1 Axes>"
      ]
     },
     "metadata": {},
     "output_type": "display_data"
    }
   ],
   "source": [
    "import matplotlib.pyplot as plt\n",
    "import seaborn as sns\n",
    "\n",
    "report = classification_report(y_val, y_pred, output_dict=True)\n",
    "\n",
    "# Step 3: Convert report to a DataFrame\n",
    "df_report = pd.DataFrame(report).transpose()\n",
    "\n",
    "# Step 4: Select relevant rows and metrics\n",
    "metrics = df_report.loc[['0', '1'], ['precision', 'recall', 'f1-score']]\n",
    "\n",
    "# Step 5: Plot the metrics\n",
    "metrics.plot(kind='bar', figsize=(8, 6), color=['skyblue', 'orange', 'lightgreen'])\n",
    "plt.title('Classification Report Metrics')\n",
    "plt.ylabel('Score')\n",
    "plt.xlabel('Class')\n",
    "plt.xticks(rotation=0)\n",
    "plt.ylim(0, 1.1)  # Metrics range from 0 to 1\n",
    "plt.legend(loc='lower right')\n",
    "plt.grid(axis='y', linestyle='--', alpha=0.7)\n",
    "plt.tight_layout()"
   ]
  }
 ],
 "metadata": {
  "kaggle": {
   "accelerator": "none",
   "dataSources": [
    {
     "datasetId": 5926278,
     "sourceId": 9693156,
     "sourceType": "datasetVersion"
    }
   ],
   "dockerImageVersionId": 30786,
   "isGpuEnabled": false,
   "isInternetEnabled": true,
   "language": "python",
   "sourceType": "notebook"
  },
  "kernelspec": {
   "display_name": "Python 3",
   "language": "python",
   "name": "python3"
  },
  "language_info": {
   "codemirror_mode": {
    "name": "ipython",
    "version": 3
   },
   "file_extension": ".py",
   "mimetype": "text/x-python",
   "name": "python",
   "nbconvert_exporter": "python",
   "pygments_lexer": "ipython3",
   "version": "3.10.8"
  }
 },
 "nbformat": 4,
 "nbformat_minor": 4
}
